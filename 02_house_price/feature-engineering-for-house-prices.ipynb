{
 "cells": [
  {
   "cell_type": "markdown",
   "id": "39cf996f",
   "metadata": {
    "papermill": {
     "duration": 0.013699,
     "end_time": "2023-07-15T08:53:47.428258",
     "exception": false,
     "start_time": "2023-07-15T08:53:47.414559",
     "status": "completed"
    },
    "tags": []
   },
   "source": [
    "# Introduction #\n",
    "\n",
    "Welcome to the feature engineering project for the [House Prices - Advanced Regression Techniques](https://www.kaggle.com/c/house-prices-advanced-regression-techniques) competition! This competition uses nearly the same data you used in the exercises of the [Feature Engineering](https://www.kaggle.com/learn/feature-engineering) course. We'll collect together the work you did into a complete project which you can build off of with ideas of your own.\n",
    "\n",
    "<blockquote style=\"margin-right:auto; margin-left:auto; background-color: #ebf9ff; padding: 1em; margin:24px;\">\n",
    "    <strong>Fork This Notebook!</strong><br>\n",
    "Create your own editable copy of this notebook by clicking on the <strong>Copy and Edit</strong> button in the top right corner.\n",
    "</blockquote>\n",
    "\n",
    "# Step 1 - Preliminaries #\n",
    "## Imports and Configuration ##\n",
    "\n",
    "We'll start by importing the packages we used in the exercises and setting some notebook defaults. Unhide this cell if you'd like to see the libraries we'll use:"
   ]
  },
  {
   "cell_type": "code",
   "execution_count": 29,
   "id": "408d8b1f",
   "metadata": {
    "_kg_hide-input": true,
    "papermill": {
     "duration": 2.506111,
     "end_time": "2023-07-15T08:53:49.947747",
     "exception": false,
     "start_time": "2023-07-15T08:53:47.441636",
     "status": "completed"
    },
    "tags": []
   },
   "outputs": [],
   "source": [
    "import os\n",
    "import warnings\n",
    "from pathlib import Path\n",
    "\n",
    "import matplotlib.pyplot as plt\n",
    "import numpy as np\n",
    "import pandas as pd\n",
    "import seaborn as sns\n",
    "from IPython.display import display\n",
    "from pandas.api.types import CategoricalDtype\n",
    "\n",
    "from category_encoders import MEstimateEncoder\n",
    "from category_encoders.cat_boost import CatBoostEncoder\n",
    "from sklearn.cluster import KMeans\n",
    "from sklearn.decomposition import PCA\n",
    "from sklearn.feature_selection import mutual_info_regression\n",
    "from sklearn.model_selection import KFold, cross_val_score\n",
    "from xgboost import XGBRegressor\n",
    "\n",
    "\n",
    "# Set Matplotlib defaults\n",
    "plt.style.use(\"seaborn-whitegrid\")\n",
    "plt.rc(\"figure\", autolayout=True)\n",
    "plt.rc(\n",
    "    \"axes\",\n",
    "    labelweight=\"bold\",\n",
    "    labelsize=\"large\",\n",
    "    titleweight=\"bold\",\n",
    "    titlesize=14,\n",
    "    titlepad=10,\n",
    ")\n",
    "\n",
    "# Mute warnings\n",
    "warnings.filterwarnings('ignore')\n",
    "plt.rcParams['figure.figsize'] = (12, 12)"
   ]
  },
  {
   "cell_type": "markdown",
   "id": "c54997ed",
   "metadata": {
    "papermill": {
     "duration": 0.013574,
     "end_time": "2023-07-15T08:53:49.975076",
     "exception": false,
     "start_time": "2023-07-15T08:53:49.961502",
     "status": "completed"
    },
    "tags": []
   },
   "source": [
    "## Data Preprocessing ##\n",
    "\n",
    "Before we can do any feature engineering, we need to *preprocess* the data to get it in a form suitable for analysis. The data we used in the course was a bit simpler than the competition data. For the *Ames* competition dataset, we'll need to:\n",
    "- **Load** the data from CSV files\n",
    "- **Clean** the data to fix any errors or inconsistencies\n",
    "- **Encode** the statistical data type (numeric, categorical)\n",
    "- **Impute** any missing values\n",
    "\n",
    "We'll wrap all these steps up in a function, which will make easy for you to get a fresh dataframe whenever you need. After reading the CSV file, we'll apply three preprocessing steps, `clean`, `encode`, and `impute`, and then create the data splits: one (`df_train`) for training the model, and one (`df_test`) for making the predictions that you'll submit to the competition for scoring on the leaderboard."
   ]
  },
  {
   "cell_type": "code",
   "execution_count": null,
   "id": "4e0da57b",
   "metadata": {
    "papermill": {
     "duration": 0.013226,
     "end_time": "2023-07-15T08:53:50.001922",
     "exception": false,
     "start_time": "2023-07-15T08:53:49.988696",
     "status": "completed"
    },
    "tags": []
   },
   "outputs": [],
   "source": []
  },
  {
   "cell_type": "code",
   "execution_count": 30,
   "id": "184e7460",
   "metadata": {
    "papermill": {
     "duration": 0.023486,
     "end_time": "2023-07-15T08:53:50.038829",
     "exception": false,
     "start_time": "2023-07-15T08:53:50.015343",
     "status": "completed"
    },
    "tags": []
   },
   "outputs": [],
   "source": [
    "def load_data():\n",
    "    # Read data\n",
    "    data_dir = Path(\"./data/kaggle_house_price/\")\n",
    "    df_train = pd.read_csv(data_dir / \"kaggle_house_pred_train.csv\", index_col=\"Id\")\n",
    "    df_test = pd.read_csv(data_dir / \"kaggle_house_pred_test.csv\", index_col=\"Id\")\n",
    "    # Merge the splits so we can process them together\n",
    "    df = pd.concat([df_train, df_test])\n",
    "    # Preprocessing\n",
    "    df = clean(df)\n",
    "    df = encode(df)\n",
    "    df = impute(df)\n",
    "    # Reform splits\n",
    "    df_train = df.loc[df_train.index, :]\n",
    "    df_test = df.loc[df_test.index, :]\n",
    "    return df_train, df_test\n"
   ]
  },
  {
   "cell_type": "markdown",
   "id": "ef8fd1c2",
   "metadata": {
    "papermill": {
     "duration": 0.012989,
     "end_time": "2023-07-15T08:53:50.065733",
     "exception": false,
     "start_time": "2023-07-15T08:53:50.052744",
     "status": "completed"
    },
    "tags": []
   },
   "source": [
    "### Clean Data ###\n",
    "\n",
    "Some of the categorical features in this dataset have what are apparently typos in their categories:"
   ]
  },
  {
   "cell_type": "code",
   "execution_count": 31,
   "id": "6ad48437",
   "metadata": {
    "papermill": {
     "duration": 0.081184,
     "end_time": "2023-07-15T08:53:50.160158",
     "exception": false,
     "start_time": "2023-07-15T08:53:50.078974",
     "status": "completed"
    },
    "tags": []
   },
   "outputs": [
    {
     "data": {
      "text/plain": [
       "array([ 60,  20,  70,  50, 190,  45,  90, 120,  30,  85,  80, 160,  75,\n",
       "       180,  40], dtype=int64)"
      ]
     },
     "execution_count": 31,
     "metadata": {},
     "output_type": "execute_result"
    }
   ],
   "source": [
    "data_dir = Path(\"./data/kaggle_house_price/\")\n",
    "df = pd.read_csv(data_dir / \"kaggle_house_pred_train.csv\", index_col=\"Id\")\n",
    "\n",
    "df.MSSubClass.unique()"
   ]
  },
  {
   "cell_type": "markdown",
   "id": "18ea2b2c",
   "metadata": {
    "papermill": {
     "duration": 0.013483,
     "end_time": "2023-07-15T08:53:50.187505",
     "exception": false,
     "start_time": "2023-07-15T08:53:50.174022",
     "status": "completed"
    },
    "tags": []
   },
   "source": [
    "Comparing these to `data_description.txt` shows us what needs cleaning. We'll take care of a couple of issues here, but you might want to evaluate this data further."
   ]
  },
  {
   "cell_type": "code",
   "execution_count": 32,
   "id": "a9e4e3cd",
   "metadata": {
    "papermill": {
     "duration": 0.023779,
     "end_time": "2023-07-15T08:53:50.224989",
     "exception": false,
     "start_time": "2023-07-15T08:53:50.201210",
     "status": "completed"
    },
    "tags": []
   },
   "outputs": [],
   "source": [
    "def clean(df):\n",
    "    df[\"Exterior2nd\"] = df[\"Exterior2nd\"].replace({\"Brk Cmn\": \"BrkComm\"})\n",
    "    # Some values of GarageYrBlt are corrupt, so we'll replace them\n",
    "    # with the year the house was built\n",
    "    df[\"GarageYrBlt\"] = df[\"GarageYrBlt\"].where(df.GarageYrBlt <= 2010, df.YearBuilt)\n",
    "    # Names beginning with numbers are awkward to work with\n",
    "    df.rename(columns={\n",
    "        \"1stFlrSF\": \"FirstFlrSF\",\n",
    "        \"2ndFlrSF\": \"SecondFlrSF\",\n",
    "        \"3SsnPorch\": \"Threeseasonporch\",\n",
    "    }, inplace=True,\n",
    "    )\n",
    "    return df"
   ]
  },
  {
   "cell_type": "code",
   "execution_count": 33,
   "id": "9dfb41f8-c68a-4eb2-907a-4224cdc81a7b",
   "metadata": {},
   "outputs": [],
   "source": [
    "df = clean(df)"
   ]
  },
  {
   "cell_type": "code",
   "execution_count": 34,
   "id": "32ebea93-77e9-4bda-bc00-8e9600fff652",
   "metadata": {},
   "outputs": [
    {
     "data": {
      "text/html": [
       "<div>\n",
       "<style scoped>\n",
       "    .dataframe tbody tr th:only-of-type {\n",
       "        vertical-align: middle;\n",
       "    }\n",
       "\n",
       "    .dataframe tbody tr th {\n",
       "        vertical-align: top;\n",
       "    }\n",
       "\n",
       "    .dataframe thead th {\n",
       "        text-align: right;\n",
       "    }\n",
       "</style>\n",
       "<table border=\"1\" class=\"dataframe\">\n",
       "  <thead>\n",
       "    <tr style=\"text-align: right;\">\n",
       "      <th></th>\n",
       "      <th>MSSubClass</th>\n",
       "      <th>MSZoning</th>\n",
       "      <th>LotFrontage</th>\n",
       "      <th>LotArea</th>\n",
       "      <th>Street</th>\n",
       "      <th>Alley</th>\n",
       "      <th>LotShape</th>\n",
       "      <th>LandContour</th>\n",
       "      <th>Utilities</th>\n",
       "      <th>LotConfig</th>\n",
       "      <th>...</th>\n",
       "      <th>PoolArea</th>\n",
       "      <th>PoolQC</th>\n",
       "      <th>Fence</th>\n",
       "      <th>MiscFeature</th>\n",
       "      <th>MiscVal</th>\n",
       "      <th>MoSold</th>\n",
       "      <th>YrSold</th>\n",
       "      <th>SaleType</th>\n",
       "      <th>SaleCondition</th>\n",
       "      <th>SalePrice</th>\n",
       "    </tr>\n",
       "    <tr>\n",
       "      <th>Id</th>\n",
       "      <th></th>\n",
       "      <th></th>\n",
       "      <th></th>\n",
       "      <th></th>\n",
       "      <th></th>\n",
       "      <th></th>\n",
       "      <th></th>\n",
       "      <th></th>\n",
       "      <th></th>\n",
       "      <th></th>\n",
       "      <th></th>\n",
       "      <th></th>\n",
       "      <th></th>\n",
       "      <th></th>\n",
       "      <th></th>\n",
       "      <th></th>\n",
       "      <th></th>\n",
       "      <th></th>\n",
       "      <th></th>\n",
       "      <th></th>\n",
       "      <th></th>\n",
       "    </tr>\n",
       "  </thead>\n",
       "  <tbody>\n",
       "    <tr>\n",
       "      <th>1</th>\n",
       "      <td>60</td>\n",
       "      <td>RL</td>\n",
       "      <td>65.0</td>\n",
       "      <td>8450</td>\n",
       "      <td>Pave</td>\n",
       "      <td>NaN</td>\n",
       "      <td>Reg</td>\n",
       "      <td>Lvl</td>\n",
       "      <td>AllPub</td>\n",
       "      <td>Inside</td>\n",
       "      <td>...</td>\n",
       "      <td>0</td>\n",
       "      <td>NaN</td>\n",
       "      <td>NaN</td>\n",
       "      <td>NaN</td>\n",
       "      <td>0</td>\n",
       "      <td>2</td>\n",
       "      <td>2008</td>\n",
       "      <td>WD</td>\n",
       "      <td>Normal</td>\n",
       "      <td>208500</td>\n",
       "    </tr>\n",
       "    <tr>\n",
       "      <th>2</th>\n",
       "      <td>20</td>\n",
       "      <td>RL</td>\n",
       "      <td>80.0</td>\n",
       "      <td>9600</td>\n",
       "      <td>Pave</td>\n",
       "      <td>NaN</td>\n",
       "      <td>Reg</td>\n",
       "      <td>Lvl</td>\n",
       "      <td>AllPub</td>\n",
       "      <td>FR2</td>\n",
       "      <td>...</td>\n",
       "      <td>0</td>\n",
       "      <td>NaN</td>\n",
       "      <td>NaN</td>\n",
       "      <td>NaN</td>\n",
       "      <td>0</td>\n",
       "      <td>5</td>\n",
       "      <td>2007</td>\n",
       "      <td>WD</td>\n",
       "      <td>Normal</td>\n",
       "      <td>181500</td>\n",
       "    </tr>\n",
       "    <tr>\n",
       "      <th>3</th>\n",
       "      <td>60</td>\n",
       "      <td>RL</td>\n",
       "      <td>68.0</td>\n",
       "      <td>11250</td>\n",
       "      <td>Pave</td>\n",
       "      <td>NaN</td>\n",
       "      <td>IR1</td>\n",
       "      <td>Lvl</td>\n",
       "      <td>AllPub</td>\n",
       "      <td>Inside</td>\n",
       "      <td>...</td>\n",
       "      <td>0</td>\n",
       "      <td>NaN</td>\n",
       "      <td>NaN</td>\n",
       "      <td>NaN</td>\n",
       "      <td>0</td>\n",
       "      <td>9</td>\n",
       "      <td>2008</td>\n",
       "      <td>WD</td>\n",
       "      <td>Normal</td>\n",
       "      <td>223500</td>\n",
       "    </tr>\n",
       "    <tr>\n",
       "      <th>4</th>\n",
       "      <td>70</td>\n",
       "      <td>RL</td>\n",
       "      <td>60.0</td>\n",
       "      <td>9550</td>\n",
       "      <td>Pave</td>\n",
       "      <td>NaN</td>\n",
       "      <td>IR1</td>\n",
       "      <td>Lvl</td>\n",
       "      <td>AllPub</td>\n",
       "      <td>Corner</td>\n",
       "      <td>...</td>\n",
       "      <td>0</td>\n",
       "      <td>NaN</td>\n",
       "      <td>NaN</td>\n",
       "      <td>NaN</td>\n",
       "      <td>0</td>\n",
       "      <td>2</td>\n",
       "      <td>2006</td>\n",
       "      <td>WD</td>\n",
       "      <td>Abnorml</td>\n",
       "      <td>140000</td>\n",
       "    </tr>\n",
       "    <tr>\n",
       "      <th>5</th>\n",
       "      <td>60</td>\n",
       "      <td>RL</td>\n",
       "      <td>84.0</td>\n",
       "      <td>14260</td>\n",
       "      <td>Pave</td>\n",
       "      <td>NaN</td>\n",
       "      <td>IR1</td>\n",
       "      <td>Lvl</td>\n",
       "      <td>AllPub</td>\n",
       "      <td>FR2</td>\n",
       "      <td>...</td>\n",
       "      <td>0</td>\n",
       "      <td>NaN</td>\n",
       "      <td>NaN</td>\n",
       "      <td>NaN</td>\n",
       "      <td>0</td>\n",
       "      <td>12</td>\n",
       "      <td>2008</td>\n",
       "      <td>WD</td>\n",
       "      <td>Normal</td>\n",
       "      <td>250000</td>\n",
       "    </tr>\n",
       "  </tbody>\n",
       "</table>\n",
       "<p>5 rows × 80 columns</p>\n",
       "</div>"
      ],
      "text/plain": [
       "    MSSubClass MSZoning  LotFrontage  LotArea Street Alley LotShape  \\\n",
       "Id                                                                    \n",
       "1           60       RL         65.0     8450   Pave   NaN      Reg   \n",
       "2           20       RL         80.0     9600   Pave   NaN      Reg   \n",
       "3           60       RL         68.0    11250   Pave   NaN      IR1   \n",
       "4           70       RL         60.0     9550   Pave   NaN      IR1   \n",
       "5           60       RL         84.0    14260   Pave   NaN      IR1   \n",
       "\n",
       "   LandContour Utilities LotConfig  ... PoolArea PoolQC Fence MiscFeature  \\\n",
       "Id                                  ...                                     \n",
       "1          Lvl    AllPub    Inside  ...        0    NaN   NaN         NaN   \n",
       "2          Lvl    AllPub       FR2  ...        0    NaN   NaN         NaN   \n",
       "3          Lvl    AllPub    Inside  ...        0    NaN   NaN         NaN   \n",
       "4          Lvl    AllPub    Corner  ...        0    NaN   NaN         NaN   \n",
       "5          Lvl    AllPub       FR2  ...        0    NaN   NaN         NaN   \n",
       "\n",
       "   MiscVal MoSold  YrSold  SaleType  SaleCondition  SalePrice  \n",
       "Id                                                             \n",
       "1        0      2    2008        WD         Normal     208500  \n",
       "2        0      5    2007        WD         Normal     181500  \n",
       "3        0      9    2008        WD         Normal     223500  \n",
       "4        0      2    2006        WD        Abnorml     140000  \n",
       "5        0     12    2008        WD         Normal     250000  \n",
       "\n",
       "[5 rows x 80 columns]"
      ]
     },
     "execution_count": 34,
     "metadata": {},
     "output_type": "execute_result"
    }
   ],
   "source": [
    "df.head()"
   ]
  },
  {
   "cell_type": "markdown",
   "id": "b419e65f",
   "metadata": {
    "papermill": {
     "duration": 0.01322,
     "end_time": "2023-07-15T08:53:50.251982",
     "exception": false,
     "start_time": "2023-07-15T08:53:50.238762",
     "status": "completed"
    },
    "tags": []
   },
   "source": [
    "### Encode the Statistical Data Type ###\n",
    "\n",
    "Pandas has Python types corresponding to the standard statistical types (numeric, categorical, etc.). Encoding each feature with its correct type helps ensure each feature is treated appropriately by whatever functions we use, and makes it easier for us to apply transformations consistently. This hidden cell defines the `encode` function:"
   ]
  },
  {
   "cell_type": "code",
   "execution_count": 35,
   "id": "6ac0443a",
   "metadata": {
    "_kg_hide-input": true,
    "papermill": {
     "duration": 0.029958,
     "end_time": "2023-07-15T08:53:50.295461",
     "exception": false,
     "start_time": "2023-07-15T08:53:50.265503",
     "status": "completed"
    },
    "tags": []
   },
   "outputs": [],
   "source": [
    "\n",
    "# The numeric features are already encoded correctly (`float` for\n",
    "# continuous, `int` for discrete), but the categoricals we'll need to\n",
    "# do ourselves. Note in particular, that the `MSSubClass` feature is\n",
    "# read as an `int` type, but is actually a (nominative) categorical.\n",
    "\n",
    "# The nominative (unordered) categorical features\n",
    "features_nom = [\"MSSubClass\", \"MSZoning\", \"Street\", \"Alley\", \"LandContour\", \"LotConfig\", \"Neighborhood\", \"Condition1\", \"Condition2\", \n",
    "                \"BldgType\", \"HouseStyle\", \"RoofStyle\", \"RoofMatl\", \"Exterior1st\", \"Exterior2nd\", \"MasVnrType\", \"Foundation\", \"Heating\", \n",
    "                \"CentralAir\", \"GarageType\", \"MiscFeature\", \"SaleType\", \"SaleCondition\"]\n",
    "\n",
    "\n",
    "# The ordinal (ordered) categorical features \n",
    "\n",
    "# Pandas calls the categories \"levels\"\n",
    "five_levels = [\"Po\", \"Fa\", \"TA\", \"Gd\", \"Ex\"]\n",
    "ten_levels = list(range(10))\n",
    "\n",
    "ordered_levels = {\n",
    "    \"OverallQual\": ten_levels,\n",
    "    \"OverallCond\": ten_levels,\n",
    "    \"ExterQual\": five_levels,\n",
    "    \"ExterCond\": five_levels,\n",
    "    \"BsmtQual\": five_levels,\n",
    "    \"BsmtCond\": five_levels,\n",
    "    \"HeatingQC\": five_levels,\n",
    "    \"KitchenQual\": five_levels,\n",
    "    \"FireplaceQu\": five_levels,\n",
    "    \"GarageQual\": five_levels,\n",
    "    \"GarageCond\": five_levels,\n",
    "    \"PoolQC\": five_levels,\n",
    "    \"LotShape\": [\"Reg\", \"IR1\", \"IR2\", \"IR3\"],\n",
    "    \"LandSlope\": [\"Sev\", \"Mod\", \"Gtl\"],\n",
    "    \"BsmtExposure\": [\"No\", \"Mn\", \"Av\", \"Gd\"],\n",
    "    \"BsmtFinType1\": [\"Unf\", \"LwQ\", \"Rec\", \"BLQ\", \"ALQ\", \"GLQ\"],\n",
    "    \"BsmtFinType2\": [\"Unf\", \"LwQ\", \"Rec\", \"BLQ\", \"ALQ\", \"GLQ\"],\n",
    "    \"Functional\": [\"Sal\", \"Sev\", \"Maj1\", \"Maj2\", \"Mod\", \"Min2\", \"Min1\", \"Typ\"],\n",
    "    \"GarageFinish\": [\"Unf\", \"RFn\", \"Fin\"],\n",
    "    \"PavedDrive\": [\"N\", \"P\", \"Y\"],\n",
    "    \"Utilities\": [\"NoSeWa\", \"NoSewr\", \"AllPub\"],\n",
    "    \"CentralAir\": [\"N\", \"Y\"],\n",
    "    \"Electrical\": [\"Mix\", \"FuseP\", \"FuseF\", \"FuseA\", \"SBrkr\"],\n",
    "    \"Fence\": [\"MnWw\", \"GdWo\", \"MnPrv\", \"GdPrv\"],\n",
    "}\n",
    "\n",
    "# Add a None level for missing values\n",
    "ordered_levels = {key: [\"None\"] + value for key, value in ordered_levels.items()}\n",
    "\n",
    "\n",
    "def encode(df):\n",
    "    # Nominal categories\n",
    "    for name in features_nom:\n",
    "        df[name] = df[name].astype(\"category\")\n",
    "        # Add a None category for missing values\n",
    "        if \"None\" not in df[name].cat.categories:\n",
    "            df[name].cat.add_categories(\"None\", inplace=True)\n",
    "    # Ordinal categories\n",
    "    for name, levels in ordered_levels.items():\n",
    "        df[name] = df[name].astype(CategoricalDtype(levels,\n",
    "                                                    ordered=True))\n",
    "    return df\n"
   ]
  },
  {
   "cell_type": "code",
   "execution_count": 36,
   "id": "4f2f3dfc-6222-4d5c-b4f8-c0e702af26af",
   "metadata": {},
   "outputs": [
    {
     "data": {
      "text/plain": [
       "{'OverallQual': ['None', 0, 1, 2, 3, 4, 5, 6, 7, 8, 9],\n",
       " 'OverallCond': ['None', 0, 1, 2, 3, 4, 5, 6, 7, 8, 9],\n",
       " 'ExterQual': ['None', 'Po', 'Fa', 'TA', 'Gd', 'Ex'],\n",
       " 'ExterCond': ['None', 'Po', 'Fa', 'TA', 'Gd', 'Ex'],\n",
       " 'BsmtQual': ['None', 'Po', 'Fa', 'TA', 'Gd', 'Ex'],\n",
       " 'BsmtCond': ['None', 'Po', 'Fa', 'TA', 'Gd', 'Ex'],\n",
       " 'HeatingQC': ['None', 'Po', 'Fa', 'TA', 'Gd', 'Ex'],\n",
       " 'KitchenQual': ['None', 'Po', 'Fa', 'TA', 'Gd', 'Ex'],\n",
       " 'FireplaceQu': ['None', 'Po', 'Fa', 'TA', 'Gd', 'Ex'],\n",
       " 'GarageQual': ['None', 'Po', 'Fa', 'TA', 'Gd', 'Ex'],\n",
       " 'GarageCond': ['None', 'Po', 'Fa', 'TA', 'Gd', 'Ex'],\n",
       " 'PoolQC': ['None', 'Po', 'Fa', 'TA', 'Gd', 'Ex'],\n",
       " 'LotShape': ['None', 'Reg', 'IR1', 'IR2', 'IR3'],\n",
       " 'LandSlope': ['None', 'Sev', 'Mod', 'Gtl'],\n",
       " 'BsmtExposure': ['None', 'No', 'Mn', 'Av', 'Gd'],\n",
       " 'BsmtFinType1': ['None', 'Unf', 'LwQ', 'Rec', 'BLQ', 'ALQ', 'GLQ'],\n",
       " 'BsmtFinType2': ['None', 'Unf', 'LwQ', 'Rec', 'BLQ', 'ALQ', 'GLQ'],\n",
       " 'Functional': ['None',\n",
       "  'Sal',\n",
       "  'Sev',\n",
       "  'Maj1',\n",
       "  'Maj2',\n",
       "  'Mod',\n",
       "  'Min2',\n",
       "  'Min1',\n",
       "  'Typ'],\n",
       " 'GarageFinish': ['None', 'Unf', 'RFn', 'Fin'],\n",
       " 'PavedDrive': ['None', 'N', 'P', 'Y'],\n",
       " 'Utilities': ['None', 'NoSeWa', 'NoSewr', 'AllPub'],\n",
       " 'CentralAir': ['None', 'N', 'Y'],\n",
       " 'Electrical': ['None', 'Mix', 'FuseP', 'FuseF', 'FuseA', 'SBrkr'],\n",
       " 'Fence': ['None', 'MnWw', 'GdWo', 'MnPrv', 'GdPrv']}"
      ]
     },
     "execution_count": 36,
     "metadata": {},
     "output_type": "execute_result"
    }
   ],
   "source": [
    "ordered_levels"
   ]
  },
  {
   "cell_type": "markdown",
   "id": "10ba6aa7",
   "metadata": {
    "papermill": {
     "duration": 0.013282,
     "end_time": "2023-07-15T08:53:50.322419",
     "exception": false,
     "start_time": "2023-07-15T08:53:50.309137",
     "status": "completed"
    },
    "tags": []
   },
   "source": [
    "### Handle Missing Values ###\n",
    "\n",
    "Handling missing values now will make the feature engineering go more smoothly. We'll impute `0` for missing numeric values and `\"None\"` for missing categorical values. You might like to experiment with other imputation strategies. In particular, you could try creating \"missing value\" indicators: `1` whenever a value was imputed and `0` otherwise."
   ]
  },
  {
   "cell_type": "code",
   "execution_count": 37,
   "id": "0e18b0a9",
   "metadata": {
    "papermill": {
     "duration": 0.024259,
     "end_time": "2023-07-15T08:53:50.360226",
     "exception": false,
     "start_time": "2023-07-15T08:53:50.335967",
     "status": "completed"
    },
    "tags": []
   },
   "outputs": [],
   "source": [
    "def impute(df):\n",
    "    # Create a new column \"Imputed\" initialized with zeros\n",
    "    df[\"Imputed\"] = 0\n",
    "    \n",
    "    # Perform the imputation\n",
    "    for name in df.select_dtypes(\"number\"):\n",
    "        if df[name].isnull().sum() > 0:\n",
    "            # Impute missing values\n",
    "            df[name].fillna(value=0, inplace=True)\n",
    "            # Set \"Imputed\" column to 1 for imputed rows\n",
    "            df.loc[df[name].isnull(), \"Imputed\"] = 1\n",
    "    for name in df.select_dtypes([\"object\"]):\n",
    "        if df[name].isnull().sum() > 0:\n",
    "            # Impute missing values\n",
    "            df[name].fillna(value=\"None\", inplace=True)\n",
    "            # Set \"Imputed\" column to 1 for imputed rows\n",
    "            df.loc[df[name].isnull(), \"Imputed\"] = 1\n",
    "    return df\n",
    "\n",
    "\n",
    "# def impute(df):\n",
    "#     for name in df.select_dtypes(\"number\"):\n",
    "#         df[name] = df[name].fillna(0)\n",
    "#     for name in df.select_dtypes(\"category\"):\n",
    "#         df[name] = df[name].fillna(\"None\")\n",
    "#     return df"
   ]
  },
  {
   "cell_type": "markdown",
   "id": "09343f11",
   "metadata": {
    "papermill": {
     "duration": 0.013232,
     "end_time": "2023-07-15T08:53:50.386995",
     "exception": false,
     "start_time": "2023-07-15T08:53:50.373763",
     "status": "completed"
    },
    "tags": []
   },
   "source": [
    "## Load Data ##\n",
    "\n",
    "And now we can call the data loader and get the processed data splits:"
   ]
  },
  {
   "cell_type": "code",
   "execution_count": 38,
   "id": "0c48a2fc",
   "metadata": {
    "papermill": {
     "duration": 0.165753,
     "end_time": "2023-07-15T08:53:50.566298",
     "exception": false,
     "start_time": "2023-07-15T08:53:50.400545",
     "status": "completed"
    },
    "tags": []
   },
   "outputs": [],
   "source": [
    "df_train, df_test = load_data()"
   ]
  },
  {
   "cell_type": "markdown",
   "id": "606ebe7b",
   "metadata": {
    "papermill": {
     "duration": 0.013395,
     "end_time": "2023-07-15T08:53:50.593571",
     "exception": false,
     "start_time": "2023-07-15T08:53:50.580176",
     "status": "completed"
    },
    "tags": []
   },
   "source": [
    "Uncomment and run this cell if you'd like to see what they contain. Notice that `df_test` is\n",
    "missing values for `SalePrice`. (`NA`s were willed with 0's in the imputation step.)"
   ]
  },
  {
   "cell_type": "code",
   "execution_count": 39,
   "id": "9a18b165",
   "metadata": {
    "papermill": {
     "duration": 0.148683,
     "end_time": "2023-07-15T08:53:50.755886",
     "exception": false,
     "start_time": "2023-07-15T08:53:50.607203",
     "status": "completed"
    },
    "tags": []
   },
   "outputs": [
    {
     "data": {
      "text/html": [
       "<div>\n",
       "<style scoped>\n",
       "    .dataframe tbody tr th:only-of-type {\n",
       "        vertical-align: middle;\n",
       "    }\n",
       "\n",
       "    .dataframe tbody tr th {\n",
       "        vertical-align: top;\n",
       "    }\n",
       "\n",
       "    .dataframe thead th {\n",
       "        text-align: right;\n",
       "    }\n",
       "</style>\n",
       "<table border=\"1\" class=\"dataframe\">\n",
       "  <thead>\n",
       "    <tr style=\"text-align: right;\">\n",
       "      <th></th>\n",
       "      <th>MSSubClass</th>\n",
       "      <th>MSZoning</th>\n",
       "      <th>LotFrontage</th>\n",
       "      <th>LotArea</th>\n",
       "      <th>Street</th>\n",
       "      <th>Alley</th>\n",
       "      <th>LotShape</th>\n",
       "      <th>LandContour</th>\n",
       "      <th>Utilities</th>\n",
       "      <th>LotConfig</th>\n",
       "      <th>...</th>\n",
       "      <th>PoolQC</th>\n",
       "      <th>Fence</th>\n",
       "      <th>MiscFeature</th>\n",
       "      <th>MiscVal</th>\n",
       "      <th>MoSold</th>\n",
       "      <th>YrSold</th>\n",
       "      <th>SaleType</th>\n",
       "      <th>SaleCondition</th>\n",
       "      <th>SalePrice</th>\n",
       "      <th>Imputed</th>\n",
       "    </tr>\n",
       "    <tr>\n",
       "      <th>Id</th>\n",
       "      <th></th>\n",
       "      <th></th>\n",
       "      <th></th>\n",
       "      <th></th>\n",
       "      <th></th>\n",
       "      <th></th>\n",
       "      <th></th>\n",
       "      <th></th>\n",
       "      <th></th>\n",
       "      <th></th>\n",
       "      <th></th>\n",
       "      <th></th>\n",
       "      <th></th>\n",
       "      <th></th>\n",
       "      <th></th>\n",
       "      <th></th>\n",
       "      <th></th>\n",
       "      <th></th>\n",
       "      <th></th>\n",
       "      <th></th>\n",
       "      <th></th>\n",
       "    </tr>\n",
       "  </thead>\n",
       "  <tbody>\n",
       "    <tr>\n",
       "      <th>1</th>\n",
       "      <td>60</td>\n",
       "      <td>RL</td>\n",
       "      <td>65.0</td>\n",
       "      <td>8450</td>\n",
       "      <td>Pave</td>\n",
       "      <td>NaN</td>\n",
       "      <td>Reg</td>\n",
       "      <td>Lvl</td>\n",
       "      <td>AllPub</td>\n",
       "      <td>Inside</td>\n",
       "      <td>...</td>\n",
       "      <td>NaN</td>\n",
       "      <td>NaN</td>\n",
       "      <td>NaN</td>\n",
       "      <td>0</td>\n",
       "      <td>2</td>\n",
       "      <td>2008</td>\n",
       "      <td>WD</td>\n",
       "      <td>Normal</td>\n",
       "      <td>208500.0</td>\n",
       "      <td>0</td>\n",
       "    </tr>\n",
       "    <tr>\n",
       "      <th>2</th>\n",
       "      <td>20</td>\n",
       "      <td>RL</td>\n",
       "      <td>80.0</td>\n",
       "      <td>9600</td>\n",
       "      <td>Pave</td>\n",
       "      <td>NaN</td>\n",
       "      <td>Reg</td>\n",
       "      <td>Lvl</td>\n",
       "      <td>AllPub</td>\n",
       "      <td>FR2</td>\n",
       "      <td>...</td>\n",
       "      <td>NaN</td>\n",
       "      <td>NaN</td>\n",
       "      <td>NaN</td>\n",
       "      <td>0</td>\n",
       "      <td>5</td>\n",
       "      <td>2007</td>\n",
       "      <td>WD</td>\n",
       "      <td>Normal</td>\n",
       "      <td>181500.0</td>\n",
       "      <td>0</td>\n",
       "    </tr>\n",
       "    <tr>\n",
       "      <th>3</th>\n",
       "      <td>60</td>\n",
       "      <td>RL</td>\n",
       "      <td>68.0</td>\n",
       "      <td>11250</td>\n",
       "      <td>Pave</td>\n",
       "      <td>NaN</td>\n",
       "      <td>IR1</td>\n",
       "      <td>Lvl</td>\n",
       "      <td>AllPub</td>\n",
       "      <td>Inside</td>\n",
       "      <td>...</td>\n",
       "      <td>NaN</td>\n",
       "      <td>NaN</td>\n",
       "      <td>NaN</td>\n",
       "      <td>0</td>\n",
       "      <td>9</td>\n",
       "      <td>2008</td>\n",
       "      <td>WD</td>\n",
       "      <td>Normal</td>\n",
       "      <td>223500.0</td>\n",
       "      <td>0</td>\n",
       "    </tr>\n",
       "    <tr>\n",
       "      <th>4</th>\n",
       "      <td>70</td>\n",
       "      <td>RL</td>\n",
       "      <td>60.0</td>\n",
       "      <td>9550</td>\n",
       "      <td>Pave</td>\n",
       "      <td>NaN</td>\n",
       "      <td>IR1</td>\n",
       "      <td>Lvl</td>\n",
       "      <td>AllPub</td>\n",
       "      <td>Corner</td>\n",
       "      <td>...</td>\n",
       "      <td>NaN</td>\n",
       "      <td>NaN</td>\n",
       "      <td>NaN</td>\n",
       "      <td>0</td>\n",
       "      <td>2</td>\n",
       "      <td>2006</td>\n",
       "      <td>WD</td>\n",
       "      <td>Abnorml</td>\n",
       "      <td>140000.0</td>\n",
       "      <td>0</td>\n",
       "    </tr>\n",
       "    <tr>\n",
       "      <th>5</th>\n",
       "      <td>60</td>\n",
       "      <td>RL</td>\n",
       "      <td>84.0</td>\n",
       "      <td>14260</td>\n",
       "      <td>Pave</td>\n",
       "      <td>NaN</td>\n",
       "      <td>IR1</td>\n",
       "      <td>Lvl</td>\n",
       "      <td>AllPub</td>\n",
       "      <td>FR2</td>\n",
       "      <td>...</td>\n",
       "      <td>NaN</td>\n",
       "      <td>NaN</td>\n",
       "      <td>NaN</td>\n",
       "      <td>0</td>\n",
       "      <td>12</td>\n",
       "      <td>2008</td>\n",
       "      <td>WD</td>\n",
       "      <td>Normal</td>\n",
       "      <td>250000.0</td>\n",
       "      <td>0</td>\n",
       "    </tr>\n",
       "    <tr>\n",
       "      <th>...</th>\n",
       "      <td>...</td>\n",
       "      <td>...</td>\n",
       "      <td>...</td>\n",
       "      <td>...</td>\n",
       "      <td>...</td>\n",
       "      <td>...</td>\n",
       "      <td>...</td>\n",
       "      <td>...</td>\n",
       "      <td>...</td>\n",
       "      <td>...</td>\n",
       "      <td>...</td>\n",
       "      <td>...</td>\n",
       "      <td>...</td>\n",
       "      <td>...</td>\n",
       "      <td>...</td>\n",
       "      <td>...</td>\n",
       "      <td>...</td>\n",
       "      <td>...</td>\n",
       "      <td>...</td>\n",
       "      <td>...</td>\n",
       "      <td>...</td>\n",
       "    </tr>\n",
       "    <tr>\n",
       "      <th>1456</th>\n",
       "      <td>60</td>\n",
       "      <td>RL</td>\n",
       "      <td>62.0</td>\n",
       "      <td>7917</td>\n",
       "      <td>Pave</td>\n",
       "      <td>NaN</td>\n",
       "      <td>Reg</td>\n",
       "      <td>Lvl</td>\n",
       "      <td>AllPub</td>\n",
       "      <td>Inside</td>\n",
       "      <td>...</td>\n",
       "      <td>NaN</td>\n",
       "      <td>NaN</td>\n",
       "      <td>NaN</td>\n",
       "      <td>0</td>\n",
       "      <td>8</td>\n",
       "      <td>2007</td>\n",
       "      <td>WD</td>\n",
       "      <td>Normal</td>\n",
       "      <td>175000.0</td>\n",
       "      <td>0</td>\n",
       "    </tr>\n",
       "    <tr>\n",
       "      <th>1457</th>\n",
       "      <td>20</td>\n",
       "      <td>RL</td>\n",
       "      <td>85.0</td>\n",
       "      <td>13175</td>\n",
       "      <td>Pave</td>\n",
       "      <td>NaN</td>\n",
       "      <td>Reg</td>\n",
       "      <td>Lvl</td>\n",
       "      <td>AllPub</td>\n",
       "      <td>Inside</td>\n",
       "      <td>...</td>\n",
       "      <td>NaN</td>\n",
       "      <td>MnPrv</td>\n",
       "      <td>NaN</td>\n",
       "      <td>0</td>\n",
       "      <td>2</td>\n",
       "      <td>2010</td>\n",
       "      <td>WD</td>\n",
       "      <td>Normal</td>\n",
       "      <td>210000.0</td>\n",
       "      <td>0</td>\n",
       "    </tr>\n",
       "    <tr>\n",
       "      <th>1458</th>\n",
       "      <td>70</td>\n",
       "      <td>RL</td>\n",
       "      <td>66.0</td>\n",
       "      <td>9042</td>\n",
       "      <td>Pave</td>\n",
       "      <td>NaN</td>\n",
       "      <td>Reg</td>\n",
       "      <td>Lvl</td>\n",
       "      <td>AllPub</td>\n",
       "      <td>Inside</td>\n",
       "      <td>...</td>\n",
       "      <td>NaN</td>\n",
       "      <td>GdPrv</td>\n",
       "      <td>Shed</td>\n",
       "      <td>2500</td>\n",
       "      <td>5</td>\n",
       "      <td>2010</td>\n",
       "      <td>WD</td>\n",
       "      <td>Normal</td>\n",
       "      <td>266500.0</td>\n",
       "      <td>0</td>\n",
       "    </tr>\n",
       "    <tr>\n",
       "      <th>1459</th>\n",
       "      <td>20</td>\n",
       "      <td>RL</td>\n",
       "      <td>68.0</td>\n",
       "      <td>9717</td>\n",
       "      <td>Pave</td>\n",
       "      <td>NaN</td>\n",
       "      <td>Reg</td>\n",
       "      <td>Lvl</td>\n",
       "      <td>AllPub</td>\n",
       "      <td>Inside</td>\n",
       "      <td>...</td>\n",
       "      <td>NaN</td>\n",
       "      <td>NaN</td>\n",
       "      <td>NaN</td>\n",
       "      <td>0</td>\n",
       "      <td>4</td>\n",
       "      <td>2010</td>\n",
       "      <td>WD</td>\n",
       "      <td>Normal</td>\n",
       "      <td>142125.0</td>\n",
       "      <td>0</td>\n",
       "    </tr>\n",
       "    <tr>\n",
       "      <th>1460</th>\n",
       "      <td>20</td>\n",
       "      <td>RL</td>\n",
       "      <td>75.0</td>\n",
       "      <td>9937</td>\n",
       "      <td>Pave</td>\n",
       "      <td>NaN</td>\n",
       "      <td>Reg</td>\n",
       "      <td>Lvl</td>\n",
       "      <td>AllPub</td>\n",
       "      <td>Inside</td>\n",
       "      <td>...</td>\n",
       "      <td>NaN</td>\n",
       "      <td>NaN</td>\n",
       "      <td>NaN</td>\n",
       "      <td>0</td>\n",
       "      <td>6</td>\n",
       "      <td>2008</td>\n",
       "      <td>WD</td>\n",
       "      <td>Normal</td>\n",
       "      <td>147500.0</td>\n",
       "      <td>0</td>\n",
       "    </tr>\n",
       "  </tbody>\n",
       "</table>\n",
       "<p>1460 rows × 81 columns</p>\n",
       "</div>"
      ],
      "text/plain": [
       "     MSSubClass MSZoning  LotFrontage  LotArea Street Alley LotShape  \\\n",
       "Id                                                                     \n",
       "1            60       RL         65.0     8450   Pave   NaN      Reg   \n",
       "2            20       RL         80.0     9600   Pave   NaN      Reg   \n",
       "3            60       RL         68.0    11250   Pave   NaN      IR1   \n",
       "4            70       RL         60.0     9550   Pave   NaN      IR1   \n",
       "5            60       RL         84.0    14260   Pave   NaN      IR1   \n",
       "...         ...      ...          ...      ...    ...   ...      ...   \n",
       "1456         60       RL         62.0     7917   Pave   NaN      Reg   \n",
       "1457         20       RL         85.0    13175   Pave   NaN      Reg   \n",
       "1458         70       RL         66.0     9042   Pave   NaN      Reg   \n",
       "1459         20       RL         68.0     9717   Pave   NaN      Reg   \n",
       "1460         20       RL         75.0     9937   Pave   NaN      Reg   \n",
       "\n",
       "     LandContour Utilities LotConfig  ... PoolQC  Fence MiscFeature MiscVal  \\\n",
       "Id                                    ...                                     \n",
       "1            Lvl    AllPub    Inside  ...    NaN    NaN         NaN       0   \n",
       "2            Lvl    AllPub       FR2  ...    NaN    NaN         NaN       0   \n",
       "3            Lvl    AllPub    Inside  ...    NaN    NaN         NaN       0   \n",
       "4            Lvl    AllPub    Corner  ...    NaN    NaN         NaN       0   \n",
       "5            Lvl    AllPub       FR2  ...    NaN    NaN         NaN       0   \n",
       "...          ...       ...       ...  ...    ...    ...         ...     ...   \n",
       "1456         Lvl    AllPub    Inside  ...    NaN    NaN         NaN       0   \n",
       "1457         Lvl    AllPub    Inside  ...    NaN  MnPrv         NaN       0   \n",
       "1458         Lvl    AllPub    Inside  ...    NaN  GdPrv        Shed    2500   \n",
       "1459         Lvl    AllPub    Inside  ...    NaN    NaN         NaN       0   \n",
       "1460         Lvl    AllPub    Inside  ...    NaN    NaN         NaN       0   \n",
       "\n",
       "     MoSold YrSold SaleType SaleCondition  SalePrice  Imputed  \n",
       "Id                                                             \n",
       "1         2   2008       WD        Normal   208500.0        0  \n",
       "2         5   2007       WD        Normal   181500.0        0  \n",
       "3         9   2008       WD        Normal   223500.0        0  \n",
       "4         2   2006       WD       Abnorml   140000.0        0  \n",
       "5        12   2008       WD        Normal   250000.0        0  \n",
       "...     ...    ...      ...           ...        ...      ...  \n",
       "1456      8   2007       WD        Normal   175000.0        0  \n",
       "1457      2   2010       WD        Normal   210000.0        0  \n",
       "1458      5   2010       WD        Normal   266500.0        0  \n",
       "1459      4   2010       WD        Normal   142125.0        0  \n",
       "1460      6   2008       WD        Normal   147500.0        0  \n",
       "\n",
       "[1460 rows x 81 columns]"
      ]
     },
     "metadata": {},
     "output_type": "display_data"
    },
    {
     "data": {
      "text/html": [
       "<div>\n",
       "<style scoped>\n",
       "    .dataframe tbody tr th:only-of-type {\n",
       "        vertical-align: middle;\n",
       "    }\n",
       "\n",
       "    .dataframe tbody tr th {\n",
       "        vertical-align: top;\n",
       "    }\n",
       "\n",
       "    .dataframe thead th {\n",
       "        text-align: right;\n",
       "    }\n",
       "</style>\n",
       "<table border=\"1\" class=\"dataframe\">\n",
       "  <thead>\n",
       "    <tr style=\"text-align: right;\">\n",
       "      <th></th>\n",
       "      <th>MSSubClass</th>\n",
       "      <th>MSZoning</th>\n",
       "      <th>LotFrontage</th>\n",
       "      <th>LotArea</th>\n",
       "      <th>Street</th>\n",
       "      <th>Alley</th>\n",
       "      <th>LotShape</th>\n",
       "      <th>LandContour</th>\n",
       "      <th>Utilities</th>\n",
       "      <th>LotConfig</th>\n",
       "      <th>...</th>\n",
       "      <th>PoolQC</th>\n",
       "      <th>Fence</th>\n",
       "      <th>MiscFeature</th>\n",
       "      <th>MiscVal</th>\n",
       "      <th>MoSold</th>\n",
       "      <th>YrSold</th>\n",
       "      <th>SaleType</th>\n",
       "      <th>SaleCondition</th>\n",
       "      <th>SalePrice</th>\n",
       "      <th>Imputed</th>\n",
       "    </tr>\n",
       "    <tr>\n",
       "      <th>Id</th>\n",
       "      <th></th>\n",
       "      <th></th>\n",
       "      <th></th>\n",
       "      <th></th>\n",
       "      <th></th>\n",
       "      <th></th>\n",
       "      <th></th>\n",
       "      <th></th>\n",
       "      <th></th>\n",
       "      <th></th>\n",
       "      <th></th>\n",
       "      <th></th>\n",
       "      <th></th>\n",
       "      <th></th>\n",
       "      <th></th>\n",
       "      <th></th>\n",
       "      <th></th>\n",
       "      <th></th>\n",
       "      <th></th>\n",
       "      <th></th>\n",
       "      <th></th>\n",
       "    </tr>\n",
       "  </thead>\n",
       "  <tbody>\n",
       "    <tr>\n",
       "      <th>1461</th>\n",
       "      <td>20</td>\n",
       "      <td>RH</td>\n",
       "      <td>80.0</td>\n",
       "      <td>11622</td>\n",
       "      <td>Pave</td>\n",
       "      <td>NaN</td>\n",
       "      <td>Reg</td>\n",
       "      <td>Lvl</td>\n",
       "      <td>AllPub</td>\n",
       "      <td>Inside</td>\n",
       "      <td>...</td>\n",
       "      <td>NaN</td>\n",
       "      <td>MnPrv</td>\n",
       "      <td>NaN</td>\n",
       "      <td>0</td>\n",
       "      <td>6</td>\n",
       "      <td>2010</td>\n",
       "      <td>WD</td>\n",
       "      <td>Normal</td>\n",
       "      <td>0.0</td>\n",
       "      <td>0</td>\n",
       "    </tr>\n",
       "    <tr>\n",
       "      <th>1462</th>\n",
       "      <td>20</td>\n",
       "      <td>RL</td>\n",
       "      <td>81.0</td>\n",
       "      <td>14267</td>\n",
       "      <td>Pave</td>\n",
       "      <td>NaN</td>\n",
       "      <td>IR1</td>\n",
       "      <td>Lvl</td>\n",
       "      <td>AllPub</td>\n",
       "      <td>Corner</td>\n",
       "      <td>...</td>\n",
       "      <td>NaN</td>\n",
       "      <td>NaN</td>\n",
       "      <td>Gar2</td>\n",
       "      <td>12500</td>\n",
       "      <td>6</td>\n",
       "      <td>2010</td>\n",
       "      <td>WD</td>\n",
       "      <td>Normal</td>\n",
       "      <td>0.0</td>\n",
       "      <td>0</td>\n",
       "    </tr>\n",
       "    <tr>\n",
       "      <th>1463</th>\n",
       "      <td>60</td>\n",
       "      <td>RL</td>\n",
       "      <td>74.0</td>\n",
       "      <td>13830</td>\n",
       "      <td>Pave</td>\n",
       "      <td>NaN</td>\n",
       "      <td>IR1</td>\n",
       "      <td>Lvl</td>\n",
       "      <td>AllPub</td>\n",
       "      <td>Inside</td>\n",
       "      <td>...</td>\n",
       "      <td>NaN</td>\n",
       "      <td>MnPrv</td>\n",
       "      <td>NaN</td>\n",
       "      <td>0</td>\n",
       "      <td>3</td>\n",
       "      <td>2010</td>\n",
       "      <td>WD</td>\n",
       "      <td>Normal</td>\n",
       "      <td>0.0</td>\n",
       "      <td>0</td>\n",
       "    </tr>\n",
       "    <tr>\n",
       "      <th>1464</th>\n",
       "      <td>60</td>\n",
       "      <td>RL</td>\n",
       "      <td>78.0</td>\n",
       "      <td>9978</td>\n",
       "      <td>Pave</td>\n",
       "      <td>NaN</td>\n",
       "      <td>IR1</td>\n",
       "      <td>Lvl</td>\n",
       "      <td>AllPub</td>\n",
       "      <td>Inside</td>\n",
       "      <td>...</td>\n",
       "      <td>NaN</td>\n",
       "      <td>NaN</td>\n",
       "      <td>NaN</td>\n",
       "      <td>0</td>\n",
       "      <td>6</td>\n",
       "      <td>2010</td>\n",
       "      <td>WD</td>\n",
       "      <td>Normal</td>\n",
       "      <td>0.0</td>\n",
       "      <td>0</td>\n",
       "    </tr>\n",
       "    <tr>\n",
       "      <th>1465</th>\n",
       "      <td>120</td>\n",
       "      <td>RL</td>\n",
       "      <td>43.0</td>\n",
       "      <td>5005</td>\n",
       "      <td>Pave</td>\n",
       "      <td>NaN</td>\n",
       "      <td>IR1</td>\n",
       "      <td>HLS</td>\n",
       "      <td>AllPub</td>\n",
       "      <td>Inside</td>\n",
       "      <td>...</td>\n",
       "      <td>NaN</td>\n",
       "      <td>NaN</td>\n",
       "      <td>NaN</td>\n",
       "      <td>0</td>\n",
       "      <td>1</td>\n",
       "      <td>2010</td>\n",
       "      <td>WD</td>\n",
       "      <td>Normal</td>\n",
       "      <td>0.0</td>\n",
       "      <td>0</td>\n",
       "    </tr>\n",
       "    <tr>\n",
       "      <th>...</th>\n",
       "      <td>...</td>\n",
       "      <td>...</td>\n",
       "      <td>...</td>\n",
       "      <td>...</td>\n",
       "      <td>...</td>\n",
       "      <td>...</td>\n",
       "      <td>...</td>\n",
       "      <td>...</td>\n",
       "      <td>...</td>\n",
       "      <td>...</td>\n",
       "      <td>...</td>\n",
       "      <td>...</td>\n",
       "      <td>...</td>\n",
       "      <td>...</td>\n",
       "      <td>...</td>\n",
       "      <td>...</td>\n",
       "      <td>...</td>\n",
       "      <td>...</td>\n",
       "      <td>...</td>\n",
       "      <td>...</td>\n",
       "      <td>...</td>\n",
       "    </tr>\n",
       "    <tr>\n",
       "      <th>2915</th>\n",
       "      <td>160</td>\n",
       "      <td>RM</td>\n",
       "      <td>21.0</td>\n",
       "      <td>1936</td>\n",
       "      <td>Pave</td>\n",
       "      <td>NaN</td>\n",
       "      <td>Reg</td>\n",
       "      <td>Lvl</td>\n",
       "      <td>AllPub</td>\n",
       "      <td>Inside</td>\n",
       "      <td>...</td>\n",
       "      <td>NaN</td>\n",
       "      <td>NaN</td>\n",
       "      <td>NaN</td>\n",
       "      <td>0</td>\n",
       "      <td>6</td>\n",
       "      <td>2006</td>\n",
       "      <td>WD</td>\n",
       "      <td>Normal</td>\n",
       "      <td>0.0</td>\n",
       "      <td>0</td>\n",
       "    </tr>\n",
       "    <tr>\n",
       "      <th>2916</th>\n",
       "      <td>160</td>\n",
       "      <td>RM</td>\n",
       "      <td>21.0</td>\n",
       "      <td>1894</td>\n",
       "      <td>Pave</td>\n",
       "      <td>NaN</td>\n",
       "      <td>Reg</td>\n",
       "      <td>Lvl</td>\n",
       "      <td>AllPub</td>\n",
       "      <td>Inside</td>\n",
       "      <td>...</td>\n",
       "      <td>NaN</td>\n",
       "      <td>NaN</td>\n",
       "      <td>NaN</td>\n",
       "      <td>0</td>\n",
       "      <td>4</td>\n",
       "      <td>2006</td>\n",
       "      <td>WD</td>\n",
       "      <td>Abnorml</td>\n",
       "      <td>0.0</td>\n",
       "      <td>0</td>\n",
       "    </tr>\n",
       "    <tr>\n",
       "      <th>2917</th>\n",
       "      <td>20</td>\n",
       "      <td>RL</td>\n",
       "      <td>160.0</td>\n",
       "      <td>20000</td>\n",
       "      <td>Pave</td>\n",
       "      <td>NaN</td>\n",
       "      <td>Reg</td>\n",
       "      <td>Lvl</td>\n",
       "      <td>AllPub</td>\n",
       "      <td>Inside</td>\n",
       "      <td>...</td>\n",
       "      <td>NaN</td>\n",
       "      <td>NaN</td>\n",
       "      <td>NaN</td>\n",
       "      <td>0</td>\n",
       "      <td>9</td>\n",
       "      <td>2006</td>\n",
       "      <td>WD</td>\n",
       "      <td>Abnorml</td>\n",
       "      <td>0.0</td>\n",
       "      <td>0</td>\n",
       "    </tr>\n",
       "    <tr>\n",
       "      <th>2918</th>\n",
       "      <td>85</td>\n",
       "      <td>RL</td>\n",
       "      <td>62.0</td>\n",
       "      <td>10441</td>\n",
       "      <td>Pave</td>\n",
       "      <td>NaN</td>\n",
       "      <td>Reg</td>\n",
       "      <td>Lvl</td>\n",
       "      <td>AllPub</td>\n",
       "      <td>Inside</td>\n",
       "      <td>...</td>\n",
       "      <td>NaN</td>\n",
       "      <td>MnPrv</td>\n",
       "      <td>Shed</td>\n",
       "      <td>700</td>\n",
       "      <td>7</td>\n",
       "      <td>2006</td>\n",
       "      <td>WD</td>\n",
       "      <td>Normal</td>\n",
       "      <td>0.0</td>\n",
       "      <td>0</td>\n",
       "    </tr>\n",
       "    <tr>\n",
       "      <th>2919</th>\n",
       "      <td>60</td>\n",
       "      <td>RL</td>\n",
       "      <td>74.0</td>\n",
       "      <td>9627</td>\n",
       "      <td>Pave</td>\n",
       "      <td>NaN</td>\n",
       "      <td>Reg</td>\n",
       "      <td>Lvl</td>\n",
       "      <td>AllPub</td>\n",
       "      <td>Inside</td>\n",
       "      <td>...</td>\n",
       "      <td>NaN</td>\n",
       "      <td>NaN</td>\n",
       "      <td>NaN</td>\n",
       "      <td>0</td>\n",
       "      <td>11</td>\n",
       "      <td>2006</td>\n",
       "      <td>WD</td>\n",
       "      <td>Normal</td>\n",
       "      <td>0.0</td>\n",
       "      <td>0</td>\n",
       "    </tr>\n",
       "  </tbody>\n",
       "</table>\n",
       "<p>1459 rows × 81 columns</p>\n",
       "</div>"
      ],
      "text/plain": [
       "     MSSubClass MSZoning  LotFrontage  LotArea Street Alley LotShape  \\\n",
       "Id                                                                     \n",
       "1461         20       RH         80.0    11622   Pave   NaN      Reg   \n",
       "1462         20       RL         81.0    14267   Pave   NaN      IR1   \n",
       "1463         60       RL         74.0    13830   Pave   NaN      IR1   \n",
       "1464         60       RL         78.0     9978   Pave   NaN      IR1   \n",
       "1465        120       RL         43.0     5005   Pave   NaN      IR1   \n",
       "...         ...      ...          ...      ...    ...   ...      ...   \n",
       "2915        160       RM         21.0     1936   Pave   NaN      Reg   \n",
       "2916        160       RM         21.0     1894   Pave   NaN      Reg   \n",
       "2917         20       RL        160.0    20000   Pave   NaN      Reg   \n",
       "2918         85       RL         62.0    10441   Pave   NaN      Reg   \n",
       "2919         60       RL         74.0     9627   Pave   NaN      Reg   \n",
       "\n",
       "     LandContour Utilities LotConfig  ... PoolQC  Fence MiscFeature MiscVal  \\\n",
       "Id                                    ...                                     \n",
       "1461         Lvl    AllPub    Inside  ...    NaN  MnPrv         NaN       0   \n",
       "1462         Lvl    AllPub    Corner  ...    NaN    NaN        Gar2   12500   \n",
       "1463         Lvl    AllPub    Inside  ...    NaN  MnPrv         NaN       0   \n",
       "1464         Lvl    AllPub    Inside  ...    NaN    NaN         NaN       0   \n",
       "1465         HLS    AllPub    Inside  ...    NaN    NaN         NaN       0   \n",
       "...          ...       ...       ...  ...    ...    ...         ...     ...   \n",
       "2915         Lvl    AllPub    Inside  ...    NaN    NaN         NaN       0   \n",
       "2916         Lvl    AllPub    Inside  ...    NaN    NaN         NaN       0   \n",
       "2917         Lvl    AllPub    Inside  ...    NaN    NaN         NaN       0   \n",
       "2918         Lvl    AllPub    Inside  ...    NaN  MnPrv        Shed     700   \n",
       "2919         Lvl    AllPub    Inside  ...    NaN    NaN         NaN       0   \n",
       "\n",
       "     MoSold YrSold SaleType SaleCondition  SalePrice  Imputed  \n",
       "Id                                                             \n",
       "1461      6   2010       WD        Normal        0.0        0  \n",
       "1462      6   2010       WD        Normal        0.0        0  \n",
       "1463      3   2010       WD        Normal        0.0        0  \n",
       "1464      6   2010       WD        Normal        0.0        0  \n",
       "1465      1   2010       WD        Normal        0.0        0  \n",
       "...     ...    ...      ...           ...        ...      ...  \n",
       "2915      6   2006       WD        Normal        0.0        0  \n",
       "2916      4   2006       WD       Abnorml        0.0        0  \n",
       "2917      9   2006       WD       Abnorml        0.0        0  \n",
       "2918      7   2006       WD        Normal        0.0        0  \n",
       "2919     11   2006       WD        Normal        0.0        0  \n",
       "\n",
       "[1459 rows x 81 columns]"
      ]
     },
     "metadata": {},
     "output_type": "display_data"
    },
    {
     "name": "stdout",
     "output_type": "stream",
     "text": [
      "<class 'pandas.core.frame.DataFrame'>\n",
      "Int64Index: 1460 entries, 1 to 1460\n",
      "Data columns (total 81 columns):\n",
      " #   Column            Non-Null Count  Dtype   \n",
      "---  ------            --------------  -----   \n",
      " 0   MSSubClass        1460 non-null   category\n",
      " 1   MSZoning          1460 non-null   category\n",
      " 2   LotFrontage       1460 non-null   float64 \n",
      " 3   LotArea           1460 non-null   int64   \n",
      " 4   Street            1460 non-null   category\n",
      " 5   Alley             91 non-null     category\n",
      " 6   LotShape          1460 non-null   category\n",
      " 7   LandContour       1460 non-null   category\n",
      " 8   Utilities         1460 non-null   category\n",
      " 9   LotConfig         1460 non-null   category\n",
      " 10  LandSlope         1460 non-null   category\n",
      " 11  Neighborhood      1460 non-null   category\n",
      " 12  Condition1        1460 non-null   category\n",
      " 13  Condition2        1460 non-null   category\n",
      " 14  BldgType          1460 non-null   category\n",
      " 15  HouseStyle        1460 non-null   category\n",
      " 16  OverallQual       1442 non-null   category\n",
      " 17  OverallCond       1460 non-null   category\n",
      " 18  YearBuilt         1460 non-null   int64   \n",
      " 19  YearRemodAdd      1460 non-null   int64   \n",
      " 20  RoofStyle         1460 non-null   category\n",
      " 21  RoofMatl          1460 non-null   category\n",
      " 22  Exterior1st       1460 non-null   category\n",
      " 23  Exterior2nd       1460 non-null   category\n",
      " 24  MasVnrType        1452 non-null   category\n",
      " 25  MasVnrArea        1460 non-null   float64 \n",
      " 26  ExterQual         1460 non-null   category\n",
      " 27  ExterCond         1460 non-null   category\n",
      " 28  Foundation        1460 non-null   category\n",
      " 29  BsmtQual          1423 non-null   category\n",
      " 30  BsmtCond          1423 non-null   category\n",
      " 31  BsmtExposure      1422 non-null   category\n",
      " 32  BsmtFinType1      1423 non-null   category\n",
      " 33  BsmtFinSF1        1460 non-null   float64 \n",
      " 34  BsmtFinType2      1422 non-null   category\n",
      " 35  BsmtFinSF2        1460 non-null   float64 \n",
      " 36  BsmtUnfSF         1460 non-null   float64 \n",
      " 37  TotalBsmtSF       1460 non-null   float64 \n",
      " 38  Heating           1460 non-null   category\n",
      " 39  HeatingQC         1460 non-null   category\n",
      " 40  CentralAir        1460 non-null   category\n",
      " 41  Electrical        1459 non-null   category\n",
      " 42  FirstFlrSF        1460 non-null   int64   \n",
      " 43  SecondFlrSF       1460 non-null   int64   \n",
      " 44  LowQualFinSF      1460 non-null   int64   \n",
      " 45  GrLivArea         1460 non-null   int64   \n",
      " 46  BsmtFullBath      1460 non-null   float64 \n",
      " 47  BsmtHalfBath      1460 non-null   float64 \n",
      " 48  FullBath          1460 non-null   int64   \n",
      " 49  HalfBath          1460 non-null   int64   \n",
      " 50  BedroomAbvGr      1460 non-null   int64   \n",
      " 51  KitchenAbvGr      1460 non-null   int64   \n",
      " 52  KitchenQual       1460 non-null   category\n",
      " 53  TotRmsAbvGrd      1460 non-null   int64   \n",
      " 54  Functional        1460 non-null   category\n",
      " 55  Fireplaces        1460 non-null   int64   \n",
      " 56  FireplaceQu       770 non-null    category\n",
      " 57  GarageType        1379 non-null   category\n",
      " 58  GarageYrBlt       1460 non-null   float64 \n",
      " 59  GarageFinish      1379 non-null   category\n",
      " 60  GarageCars        1460 non-null   float64 \n",
      " 61  GarageArea        1460 non-null   float64 \n",
      " 62  GarageQual        1379 non-null   category\n",
      " 63  GarageCond        1379 non-null   category\n",
      " 64  PavedDrive        1460 non-null   category\n",
      " 65  WoodDeckSF        1460 non-null   int64   \n",
      " 66  OpenPorchSF       1460 non-null   int64   \n",
      " 67  EnclosedPorch     1460 non-null   int64   \n",
      " 68  Threeseasonporch  1460 non-null   int64   \n",
      " 69  ScreenPorch       1460 non-null   int64   \n",
      " 70  PoolArea          1460 non-null   int64   \n",
      " 71  PoolQC            7 non-null      category\n",
      " 72  Fence             281 non-null    category\n",
      " 73  MiscFeature       54 non-null     category\n",
      " 74  MiscVal           1460 non-null   int64   \n",
      " 75  MoSold            1460 non-null   int64   \n",
      " 76  YrSold            1460 non-null   int64   \n",
      " 77  SaleType          1460 non-null   category\n",
      " 78  SaleCondition     1460 non-null   category\n",
      " 79  SalePrice         1460 non-null   float64 \n",
      " 80  Imputed           1460 non-null   int64   \n",
      "dtypes: category(46), float64(12), int64(23)\n",
      "memory usage: 490.3 KB\n"
     ]
    },
    {
     "data": {
      "text/plain": [
       "None"
      ]
     },
     "metadata": {},
     "output_type": "display_data"
    },
    {
     "name": "stdout",
     "output_type": "stream",
     "text": [
      "<class 'pandas.core.frame.DataFrame'>\n",
      "Int64Index: 1459 entries, 1461 to 2919\n",
      "Data columns (total 81 columns):\n",
      " #   Column            Non-Null Count  Dtype   \n",
      "---  ------            --------------  -----   \n",
      " 0   MSSubClass        1459 non-null   category\n",
      " 1   MSZoning          1455 non-null   category\n",
      " 2   LotFrontage       1459 non-null   float64 \n",
      " 3   LotArea           1459 non-null   int64   \n",
      " 4   Street            1459 non-null   category\n",
      " 5   Alley             107 non-null    category\n",
      " 6   LotShape          1459 non-null   category\n",
      " 7   LandContour       1459 non-null   category\n",
      " 8   Utilities         1457 non-null   category\n",
      " 9   LotConfig         1459 non-null   category\n",
      " 10  LandSlope         1459 non-null   category\n",
      " 11  Neighborhood      1459 non-null   category\n",
      " 12  Condition1        1459 non-null   category\n",
      " 13  Condition2        1459 non-null   category\n",
      " 14  BldgType          1459 non-null   category\n",
      " 15  HouseStyle        1459 non-null   category\n",
      " 16  OverallQual       1446 non-null   category\n",
      " 17  OverallCond       1459 non-null   category\n",
      " 18  YearBuilt         1459 non-null   int64   \n",
      " 19  YearRemodAdd      1459 non-null   int64   \n",
      " 20  RoofStyle         1459 non-null   category\n",
      " 21  RoofMatl          1459 non-null   category\n",
      " 22  Exterior1st       1458 non-null   category\n",
      " 23  Exterior2nd       1458 non-null   category\n",
      " 24  MasVnrType        1443 non-null   category\n",
      " 25  MasVnrArea        1459 non-null   float64 \n",
      " 26  ExterQual         1459 non-null   category\n",
      " 27  ExterCond         1459 non-null   category\n",
      " 28  Foundation        1459 non-null   category\n",
      " 29  BsmtQual          1415 non-null   category\n",
      " 30  BsmtCond          1414 non-null   category\n",
      " 31  BsmtExposure      1415 non-null   category\n",
      " 32  BsmtFinType1      1417 non-null   category\n",
      " 33  BsmtFinSF1        1459 non-null   float64 \n",
      " 34  BsmtFinType2      1417 non-null   category\n",
      " 35  BsmtFinSF2        1459 non-null   float64 \n",
      " 36  BsmtUnfSF         1459 non-null   float64 \n",
      " 37  TotalBsmtSF       1459 non-null   float64 \n",
      " 38  Heating           1459 non-null   category\n",
      " 39  HeatingQC         1459 non-null   category\n",
      " 40  CentralAir        1459 non-null   category\n",
      " 41  Electrical        1459 non-null   category\n",
      " 42  FirstFlrSF        1459 non-null   int64   \n",
      " 43  SecondFlrSF       1459 non-null   int64   \n",
      " 44  LowQualFinSF      1459 non-null   int64   \n",
      " 45  GrLivArea         1459 non-null   int64   \n",
      " 46  BsmtFullBath      1459 non-null   float64 \n",
      " 47  BsmtHalfBath      1459 non-null   float64 \n",
      " 48  FullBath          1459 non-null   int64   \n",
      " 49  HalfBath          1459 non-null   int64   \n",
      " 50  BedroomAbvGr      1459 non-null   int64   \n",
      " 51  KitchenAbvGr      1459 non-null   int64   \n",
      " 52  KitchenQual       1458 non-null   category\n",
      " 53  TotRmsAbvGrd      1459 non-null   int64   \n",
      " 54  Functional        1457 non-null   category\n",
      " 55  Fireplaces        1459 non-null   int64   \n",
      " 56  FireplaceQu       729 non-null    category\n",
      " 57  GarageType        1383 non-null   category\n",
      " 58  GarageYrBlt       1459 non-null   float64 \n",
      " 59  GarageFinish      1381 non-null   category\n",
      " 60  GarageCars        1459 non-null   float64 \n",
      " 61  GarageArea        1459 non-null   float64 \n",
      " 62  GarageQual        1381 non-null   category\n",
      " 63  GarageCond        1381 non-null   category\n",
      " 64  PavedDrive        1459 non-null   category\n",
      " 65  WoodDeckSF        1459 non-null   int64   \n",
      " 66  OpenPorchSF       1459 non-null   int64   \n",
      " 67  EnclosedPorch     1459 non-null   int64   \n",
      " 68  Threeseasonporch  1459 non-null   int64   \n",
      " 69  ScreenPorch       1459 non-null   int64   \n",
      " 70  PoolArea          1459 non-null   int64   \n",
      " 71  PoolQC            3 non-null      category\n",
      " 72  Fence             290 non-null    category\n",
      " 73  MiscFeature       51 non-null     category\n",
      " 74  MiscVal           1459 non-null   int64   \n",
      " 75  MoSold            1459 non-null   int64   \n",
      " 76  YrSold            1459 non-null   int64   \n",
      " 77  SaleType          1458 non-null   category\n",
      " 78  SaleCondition     1459 non-null   category\n",
      " 79  SalePrice         1459 non-null   float64 \n",
      " 80  Imputed           1459 non-null   int64   \n",
      "dtypes: category(46), float64(12), int64(23)\n",
      "memory usage: 490.0 KB\n"
     ]
    },
    {
     "data": {
      "text/plain": [
       "None"
      ]
     },
     "metadata": {},
     "output_type": "display_data"
    }
   ],
   "source": [
    "# Peek at the values\n",
    "display(df_train)\n",
    "display(df_test)\n",
    "\n",
    "# Display information about dtypes and missing values\n",
    "display(df_train.info())\n",
    "display(df_test.info())"
   ]
  },
  {
   "cell_type": "markdown",
   "id": "d6577e25",
   "metadata": {
    "papermill": {
     "duration": 0.01492,
     "end_time": "2023-07-15T08:53:50.785956",
     "exception": false,
     "start_time": "2023-07-15T08:53:50.771036",
     "status": "completed"
    },
    "tags": []
   },
   "source": [
    "## Establish Baseline ##\n",
    "\n",
    "Finally, let's establish a baseline score to judge our feature engineering against.\n",
    "\n",
    "Here is the function we created in Lesson 1 that will compute the cross-validated RMSLE score for a feature set. We've used XGBoost for our model, but you might want to experiment with other models.\n"
   ]
  },
  {
   "cell_type": "code",
   "execution_count": 15,
   "id": "b3e7ddd0",
   "metadata": {
    "_kg_hide-input": true,
    "papermill": {
     "duration": 0.025421,
     "end_time": "2023-07-15T08:53:50.826610",
     "exception": false,
     "start_time": "2023-07-15T08:53:50.801189",
     "status": "completed"
    },
    "tags": []
   },
   "outputs": [],
   "source": [
    "def score_dataset(X, y, model=XGBRegressor()):\n",
    "    # Label encoding for categoricals\n",
    "    #\n",
    "    # Label encoding is good for XGBoost and RandomForest, but one-hot\n",
    "    # would be better for models like Lasso or Ridge. The `cat.codes`\n",
    "    # attribute holds the category levels.\n",
    "    for colname in X.select_dtypes([\"category\"]):\n",
    "        X[colname] = X[colname].cat.codes\n",
    "    # Metric for Housing competition is RMSLE (Root Mean Squared Log Error)\n",
    "    log_y = np.log(y)\n",
    "    score = cross_val_score(\n",
    "        model, X, log_y, cv=5, scoring=\"neg_mean_squared_error\",\n",
    "    )\n",
    "    score = -1 * score.mean()\n",
    "    score = np.sqrt(score)\n",
    "    return score\n"
   ]
  },
  {
   "cell_type": "markdown",
   "id": "44e91bf7",
   "metadata": {
    "papermill": {
     "duration": 0.014894,
     "end_time": "2023-07-15T08:53:50.856705",
     "exception": false,
     "start_time": "2023-07-15T08:53:50.841811",
     "status": "completed"
    },
    "tags": []
   },
   "source": [
    "We can reuse this scoring function anytime we want to try out a new feature set. We'll run it now on the processed data with no additional features and get a baseline score:"
   ]
  },
  {
   "cell_type": "code",
   "execution_count": 40,
   "id": "ed3a52ad",
   "metadata": {
    "papermill": {
     "duration": 1.994491,
     "end_time": "2023-07-15T08:53:52.866387",
     "exception": false,
     "start_time": "2023-07-15T08:53:50.871896",
     "status": "completed"
    },
    "tags": []
   },
   "outputs": [
    {
     "name": "stdout",
     "output_type": "stream",
     "text": [
      "Baseline score: 0.14034 RMSLE\n"
     ]
    }
   ],
   "source": [
    "X = df_train.copy()\n",
    "y = X.pop(\"SalePrice\")\n",
    "\n",
    "baseline_score = score_dataset(X, y)\n",
    "print(f\"Baseline score: {baseline_score:.5f} RMSLE\")"
   ]
  },
  {
   "cell_type": "markdown",
   "id": "d228349c",
   "metadata": {
    "papermill": {
     "duration": 0.016778,
     "end_time": "2023-07-15T08:53:52.898651",
     "exception": false,
     "start_time": "2023-07-15T08:53:52.881873",
     "status": "completed"
    },
    "tags": []
   },
   "source": [
    "This baseline score helps us to know whether some set of features we've assembled has actually led to any improvement or not.\n",
    "\n",
    "# Step 2 - Feature Utility Scores #\n",
    "\n",
    "In Lesson 2 we saw how to use mutual information to compute a *utility score* for a feature, giving you an indication of how much potential the feature has. This hidden cell defines the two utility functions we used, `make_mi_scores` and `plot_mi_scores`: "
   ]
  },
  {
   "cell_type": "code",
   "execution_count": 41,
   "id": "a7f3d8c0",
   "metadata": {
    "_kg_hide-input": true,
    "papermill": {
     "duration": 0.026567,
     "end_time": "2023-07-15T08:53:52.940727",
     "exception": false,
     "start_time": "2023-07-15T08:53:52.914160",
     "status": "completed"
    },
    "tags": []
   },
   "outputs": [],
   "source": [
    "\n",
    "def make_mi_scores(X, y):\n",
    "    X = X.copy()\n",
    "    for colname in X.select_dtypes([\"object\", \"category\"]):\n",
    "        X[colname], _ = X[colname].factorize()\n",
    "    # All discrete features should now have integer dtypes\n",
    "    discrete_features = [pd.api.types.is_integer_dtype(t) for t in X.dtypes]\n",
    "    mi_scores = mutual_info_regression(X, y, discrete_features=discrete_features, random_state=0)\n",
    "    mi_scores = pd.Series(mi_scores, name=\"MI Scores\", index=X.columns)\n",
    "    mi_scores = mi_scores.sort_values(ascending=False)\n",
    "    return mi_scores\n",
    "\n",
    "\n",
    "def plot_mi_scores(scores):\n",
    "    scores = scores.sort_values(ascending=True)\n",
    "    width = np.arange(len(scores))\n",
    "    ticks = list(scores.index)\n",
    "    plt.barh(width, scores)\n",
    "    plt.yticks(width, ticks)\n",
    "    plt.title(\"Mutual Information Scores\")"
   ]
  },
  {
   "cell_type": "markdown",
   "id": "4489418f",
   "metadata": {
    "papermill": {
     "duration": 0.015307,
     "end_time": "2023-07-15T08:53:52.971137",
     "exception": false,
     "start_time": "2023-07-15T08:53:52.955830",
     "status": "completed"
    },
    "tags": []
   },
   "source": [
    "Let's look at our feature scores again:"
   ]
  },
  {
   "cell_type": "code",
   "execution_count": 42,
   "id": "fe85fa81",
   "metadata": {
    "papermill": {
     "duration": 2.35354,
     "end_time": "2023-07-15T08:53:55.340243",
     "exception": false,
     "start_time": "2023-07-15T08:53:52.986703",
     "status": "completed"
    },
    "tags": []
   },
   "outputs": [
    {
     "data": {
      "text/plain": [
       "OverallQual     0.571457\n",
       "Neighborhood    0.526220\n",
       "GrLivArea       0.430395\n",
       "YearBuilt       0.407974\n",
       "LotArea         0.394468\n",
       "                  ...   \n",
       "PoolQC          0.000000\n",
       "MiscFeature     0.000000\n",
       "MiscVal         0.000000\n",
       "MoSold          0.000000\n",
       "YrSold          0.000000\n",
       "Name: MI Scores, Length: 80, dtype: float64"
      ]
     },
     "execution_count": 42,
     "metadata": {},
     "output_type": "execute_result"
    }
   ],
   "source": [
    "X = df_train.copy()\n",
    "y = X.pop(\"SalePrice\")\n",
    "\n",
    "mi_scores = make_mi_scores(X, y)\n",
    "mi_scores"
   ]
  },
  {
   "cell_type": "code",
   "execution_count": 43,
   "id": "f6f822aa-5e3f-484c-9531-bd2d3cc67c38",
   "metadata": {},
   "outputs": [
    {
     "data": {
      "text/plain": [
       "BsmtHalfBath        1.585608e-02\n",
       "LotConfig           1.582819e-02\n",
       "RoofStyle           1.376634e-02\n",
       "BsmtFinSF2          1.271939e-02\n",
       "BsmtFullBath        7.552324e-03\n",
       "Functional          7.522779e-03\n",
       "LowQualFinSF        7.084197e-03\n",
       "RoofMatl            6.279666e-03\n",
       "LandSlope           6.039953e-03\n",
       "Threeseasonporch    3.520758e-03\n",
       "Condition2          8.473363e-04\n",
       "Street              6.097767e-04\n",
       "Utilities           1.887379e-15\n",
       "PoolArea            2.220446e-16\n",
       "Imputed             1.110223e-16\n",
       "PoolQC              0.000000e+00\n",
       "MiscFeature         0.000000e+00\n",
       "MiscVal             0.000000e+00\n",
       "MoSold              0.000000e+00\n",
       "YrSold              0.000000e+00\n",
       "Name: MI Scores, dtype: float64"
      ]
     },
     "execution_count": 43,
     "metadata": {},
     "output_type": "execute_result"
    }
   ],
   "source": [
    "mi_scores.tail(20)"
   ]
  },
  {
   "cell_type": "code",
   "execution_count": 44,
   "id": "d6142385-fe08-4103-98b9-6b045e480063",
   "metadata": {},
   "outputs": [
    {
     "data": {
      "image/png": "[encoded data removed]",
      "text/plain": [
       "<Figure size 1200x1200 with 1 Axes>"
      ]
     },
     "metadata": {},
     "output_type": "display_data"
    }
   ],
   "source": [
    "plot_mi_scores(mi_scores)"
   ]
  },
  {
   "cell_type": "markdown",
   "id": "b54d3434",
   "metadata": {
    "papermill": {
     "duration": 0.015156,
     "end_time": "2023-07-15T08:53:55.371099",
     "exception": false,
     "start_time": "2023-07-15T08:53:55.355943",
     "status": "completed"
    },
    "tags": []
   },
   "source": [
    "You can see that we have a number of features that are highly informative and also some that don't seem to be informative at all (at least by themselves). As we talked about in Tutorial 2, the top scoring features will usually pay-off the most during feature development, so it could be a good idea to focus your efforts on those. On the other hand, training on uninformative features can lead to overfitting. So, the features with 0.0 scores we'll drop entirely:"
   ]
  },
  {
   "cell_type": "code",
   "execution_count": 45,
   "id": "70a59a32",
   "metadata": {
    "papermill": {
     "duration": 0.025397,
     "end_time": "2023-07-15T08:53:55.411686",
     "exception": false,
     "start_time": "2023-07-15T08:53:55.386289",
     "status": "completed"
    },
    "tags": []
   },
   "outputs": [],
   "source": [
    "def drop_uninformative(df, mi_scores):\n",
    "    return df.loc[:, mi_scores > 0.0000000001]\n"
   ]
  },
  {
   "cell_type": "markdown",
   "id": "6e7a1db3",
   "metadata": {
    "papermill": {
     "duration": 0.014843,
     "end_time": "2023-07-15T08:53:55.442279",
     "exception": false,
     "start_time": "2023-07-15T08:53:55.427436",
     "status": "completed"
    },
    "tags": []
   },
   "source": [
    "Removing them does lead to a modest performance gain:"
   ]
  },
  {
   "cell_type": "code",
   "execution_count": 46,
   "id": "ca75ad5c-121c-4a3b-8222-26743fe5e7dc",
   "metadata": {
    "papermill": {
     "duration": 2.238027,
     "end_time": "2023-07-15T08:53:57.695364",
     "exception": false,
     "start_time": "2023-07-15T08:53:55.457337",
     "status": "completed"
    },
    "tags": []
   },
   "outputs": [
    {
     "name": "stdout",
     "output_type": "stream",
     "text": [
      "Index(['LotFrontage', 'LotArea', 'YearBuilt', 'YearRemodAdd', 'MasVnrArea',\n",
      "       'BsmtFinSF1', 'BsmtFinSF2', 'BsmtUnfSF', 'TotalBsmtSF', 'FirstFlrSF',\n",
      "       'SecondFlrSF', 'LowQualFinSF', 'GrLivArea', 'BsmtFullBath',\n",
      "       'BsmtHalfBath', 'FullBath', 'HalfBath', 'BedroomAbvGr', 'KitchenAbvGr',\n",
      "       'TotRmsAbvGrd', 'Fireplaces', 'GarageYrBlt', 'GarageCars', 'GarageArea',\n",
      "       'WoodDeckSF', 'OpenPorchSF', 'EnclosedPorch', 'Threeseasonporch',\n",
      "       'ScreenPorch'],\n",
      "      dtype='object')\n"
     ]
    }
   ],
   "source": [
    "X = df_train.copy()\n",
    "y = X.pop(\"SalePrice\")\n",
    "X = drop_uninformative(X, mi_scores)\n",
    "\n",
    "mi_scores = make_mi_scores(X, y)\n",
    "mi_scores\n",
    "print(X.select_dtypes(include=\"number\").columns)\n"
   ]
  },
  {
   "cell_type": "code",
   "execution_count": 27,
   "id": "85018a98-8299-4031-9f56-c3e986cce8a9",
   "metadata": {
    "papermill": {
     "duration": 2.238027,
     "end_time": "2023-07-15T08:53:57.695364",
     "exception": false,
     "start_time": "2023-07-15T08:53:55.457337",
     "status": "completed"
    },
    "tags": []
   },
   "outputs": [
    {
     "data": {
      "text/plain": [
       "0.14079816217226757"
      ]
     },
     "execution_count": 27,
     "metadata": {},
     "output_type": "execute_result"
    }
   ],
   "source": [
    "score_dataset(X, y)"
   ]
  },
  {
   "cell_type": "markdown",
   "id": "3f58969d",
   "metadata": {
    "papermill": {
     "duration": 0.01529,
     "end_time": "2023-07-15T08:53:57.726719",
     "exception": false,
     "start_time": "2023-07-15T08:53:57.711429",
     "status": "completed"
    },
    "tags": []
   },
   "source": [
    "Later, we'll add the `drop_uninformative` function to our feature-creation pipeline.\n",
    "\n",
    "# Step 3 - Create Features #\n",
    "\n",
    "Now we'll start developing our feature set.\n",
    "\n",
    "To make our feature engineering workflow more modular, we'll define a function that will take a prepared dataframe and pass it through a pipeline of transformations to get the final feature set. It will look something like this:\n",
    "\n",
    "```\n",
    "def create_features(df):\n",
    "    X = df.copy()\n",
    "    y = X.pop(\"SalePrice\")\n",
    "    X = X.join(create_features_1(X))\n",
    "    X = X.join(create_features_2(X))\n",
    "    X = X.join(create_features_3(X))\n",
    "    # ...\n",
    "    return X\n",
    "```\n",
    "\n",
    "Let's go ahead and define one transformation now, a [label encoding](https://www.kaggle.com/alexisbcook/categorical-variables) for the categorical features:"
   ]
  },
  {
   "cell_type": "code",
   "execution_count": 47,
   "id": "76243610",
   "metadata": {
    "papermill": {
     "duration": 0.025024,
     "end_time": "2023-07-15T08:53:57.767299",
     "exception": false,
     "start_time": "2023-07-15T08:53:57.742275",
     "status": "completed"
    },
    "tags": []
   },
   "outputs": [],
   "source": [
    "def label_encode(df):\n",
    "    X = df.copy()\n",
    "    for colname in X.select_dtypes([\"category\"]):\n",
    "        X[colname] = X[colname].cat.codes\n",
    "    return X"
   ]
  },
  {
   "cell_type": "markdown",
   "id": "603bfe1b",
   "metadata": {
    "papermill": {
     "duration": 0.015117,
     "end_time": "2023-07-15T08:53:57.797921",
     "exception": false,
     "start_time": "2023-07-15T08:53:57.782804",
     "status": "completed"
    },
    "tags": []
   },
   "source": [
    "A label encoding is okay for any kind of categorical feature when you're using a tree-ensemble like XGBoost, even for unordered categories. If you wanted to try a linear regression model (also popular in this competition), you would instead want to use a one-hot encoding, especially for the features with unordered categories.\n",
    "\n",
    "## Create Features with Pandas ##\n",
    "\n",
    "This cell reproduces the work you did in Exercise 3, where you applied strategies for creating features in Pandas. Modify or add to these functions to try out other feature combinations."
   ]
  },
  {
   "cell_type": "code",
   "execution_count": 48,
   "id": "0ba22cbc",
   "metadata": {
    "_kg_hide-input": true,
    "papermill": {
     "duration": 0.033239,
     "end_time": "2023-07-15T08:53:57.846480",
     "exception": false,
     "start_time": "2023-07-15T08:53:57.813241",
     "status": "completed"
    },
    "tags": []
   },
   "outputs": [],
   "source": [
    "def mathematical_transforms(df):\n",
    "    X = pd.DataFrame()  # dataframe to hold new features\n",
    "    X[\"LivLotRatio\"] = df.GrLivArea / df.LotArea\n",
    "    X[\"Spaciousness\"] = (df.FirstFlrSF + df.SecondFlrSF) / df.TotRmsAbvGrd\n",
    "    # This feature ended up not helping performance\n",
    "    # X[\"TotalOutsideSF\"] = \\\n",
    "    #     df.WoodDeckSF + df.OpenPorchSF + df.EnclosedPorch + \\\n",
    "    #     df.Threeseasonporch + df.ScreenPorch\n",
    "    return X\n",
    "\n",
    "\n",
    "def interactions(df):\n",
    "    X = pd.get_dummies(df.BldgType, prefix=\"Bldg\")\n",
    "    X = X.mul(df.GrLivArea, axis=0)\n",
    "    return X\n",
    "\n",
    "\n",
    "def counts(df):\n",
    "    X = pd.DataFrame()\n",
    "    X[\"PorchTypes\"] = df[[\n",
    "        \"WoodDeckSF\",\n",
    "        \"OpenPorchSF\",\n",
    "        \"EnclosedPorch\",\n",
    "        \"Threeseasonporch\",\n",
    "        \"ScreenPorch\",\n",
    "    ]].gt(0.0).sum(axis=1)\n",
    "    return X\n",
    "\n",
    "\n",
    "def break_down(df):\n",
    "    X = pd.DataFrame()\n",
    "    X[\"MSClass\"] = df.MSSubClass.str.split(\"_\", n=1, expand=True)[0]\n",
    "    return X\n",
    "\n",
    "\n",
    "def group_transforms(df):\n",
    "    X = pd.DataFrame()\n",
    "    X[\"MedNhbdArea\"] = df.groupby(\"Neighborhood\")[\"GrLivArea\"].transform(\"median\")\n",
    "    return X\n",
    "# Transformations to try\n",
    "def OverallQuall(df):\n",
    "    X = pd.DataFrame()\n",
    "    X[\"QualCond\"] = df.OverallQual.factorize()[0] * df.OverallCond.factorize()[0]\n",
    "    return X\n",
    "\n",
    "# Converting square features to linear\n",
    "def to_root_square(df):\n",
    "    X = pd.DataFrame()\n",
    "    X[\"LotArea_root\"] = np.sqrt(df.LotArea)\n",
    "    X[\"BsmtFinSF1_root\"] = np.sqrt(df.BsmtFinSF1)\n",
    "    X[\"BsmtFinSF2_root\"] = np.sqrt(df.BsmtFinSF2)\n",
    "    X[\"BsmtUnfSF_root\"] = np.sqrt(df.BsmtUnfSF)\n",
    "    X[\"TotalBsmtSF_root\"] = np.sqrt(df.TotalBsmtSF)\n",
    "    X[\"FirstFlrSF_root\"] = np.sqrt(df.FirstFlrSF)\n",
    "    X[\"SecondFlrSF_root\"] = np.sqrt(df.SecondFlrSF)\n",
    "    X[\"LowQualFinSF_root\"] = np.sqrt(df.LowQualFinSF)\n",
    "    X[\"GrLivArea_root\"] = np.sqrt(df.GrLivArea)\n",
    "    X[\"GarageArea_root\"] = np.sqrt(df.GarageArea)\n",
    "    X[\"WoodDeckSF_root\"] = np.sqrt(df.WoodDeckSF)\n",
    "    X[\"OpenPorchSF_root\"] = np.sqrt(df.OpenPorchSF)\n",
    "    X[\"EnclosedPorch_root\"] = np.sqrt(df.EnclosedPorch)\n",
    "    X[\"Threeseasonporch_root\"] = np.sqrt(df.Threeseasonporch)\n",
    "    X[\"ScreenPorch_root\"] = np.sqrt(df.ScreenPorch)\n",
    "    X[\"MedNhbdArea_root\"] = np.sqrt(df.MedNhbdArea)\n",
    "    X[\"Spaciousness_root\"] = np.sqrt(df.Spaciousness)\n",
    "    return X"
   ]
  },
  {
   "cell_type": "markdown",
   "id": "997e3356",
   "metadata": {
    "papermill": {
     "duration": 0.014926,
     "end_time": "2023-07-15T08:53:57.877003",
     "exception": false,
     "start_time": "2023-07-15T08:53:57.862077",
     "status": "completed"
    },
    "tags": []
   },
   "source": [
    "Here are some ideas for other transforms you could explore:\n",
    "- Interactions between the quality `Qual` and condition `Cond` features. `OverallQual`, for instance, was a high-scoring feature. You could try combining it with `OverallCond` by converting both to integer type and taking a product.\n",
    "- Square roots of area features. This would convert units of square feet to just feet.\n",
    "- Logarithms of numeric features. If a feature has a skewed distribution, applying a logarithm can help normalize it.\n",
    "- Interactions between numeric and categorical features that describe the same thing. You could look at interactions between `BsmtQual` and `TotalBsmtSF`, for instance.\n",
    "- Other group statistics in `Neighboorhood`. We did the median of `GrLivArea`. Looking at `mean`, `std`, or `count` could be interesting. You could also try combining the group statistics with other features. Maybe the *difference* of `GrLivArea` and the median is important?\n",
    "\n",
    "## k-Means Clustering ##\n",
    "\n",
    "The first unsupervised algorithm we used to create features was k-means clustering. We saw that you could either use the cluster labels as a feature (a column with `0, 1, 2, ...`) or you could use the *distance* of the observations to each cluster. We saw how these features can sometimes be effective at untangling complicated spatial relationships."
   ]
  },
  {
   "cell_type": "code",
   "execution_count": 49,
   "id": "b24da883",
   "metadata": {
    "_kg_hide-input": true,
    "lines_to_next_cell": 2,
    "papermill": {
     "duration": 0.02735,
     "end_time": "2023-07-15T08:53:57.919833",
     "exception": false,
     "start_time": "2023-07-15T08:53:57.892483",
     "status": "completed"
    },
    "tags": []
   },
   "outputs": [],
   "source": [
    "\n",
    "cluster_features = [\n",
    "    \"LotArea\",\n",
    "    \"TotalBsmtSF\",\n",
    "    \"FirstFlrSF\",\n",
    "    \"SecondFlrSF\",\n",
    "    \"GrLivArea\",\n",
    "]\n",
    "\n",
    "\n",
    "def cluster_labels(df, features, n_clusters=20):\n",
    "    X = df.copy()\n",
    "    X_scaled = X.loc[:, features]\n",
    "    X_scaled = (X_scaled - X_scaled.mean(axis=0)) / X_scaled.std(axis=0)\n",
    "    kmeans = KMeans(n_clusters=n_clusters, n_init=50, random_state=0)\n",
    "    X_new = pd.DataFrame()\n",
    "    X_new[\"Cluster\"] = kmeans.fit_predict(X_scaled)\n",
    "    return X_new\n",
    "\n",
    "\n",
    "def cluster_distance(df, features, n_clusters=20):\n",
    "    X = df.copy()\n",
    "    X_scaled = X.loc[:, features]\n",
    "    X_scaled = (X_scaled - X_scaled.mean(axis=0)) / X_scaled.std(axis=0)\n",
    "    kmeans = KMeans(n_clusters=20, n_init=50, random_state=0)\n",
    "    X_cd = kmeans.fit_transform(X_scaled)\n",
    "    # Label features and join to dataset\n",
    "    X_cd = pd.DataFrame(\n",
    "        X_cd, columns=[f\"Centroid_{i}\" for i in range(X_cd.shape[1])]\n",
    "    )\n",
    "    return X_cd\n"
   ]
  },
  {
   "cell_type": "markdown",
   "id": "1ff0d261",
   "metadata": {
    "papermill": {
     "duration": 0.015717,
     "end_time": "2023-07-15T08:53:57.950941",
     "exception": false,
     "start_time": "2023-07-15T08:53:57.935224",
     "status": "completed"
    },
    "tags": []
   },
   "source": [
    "## Principal Component Analysis ##\n",
    "\n",
    "PCA was the second unsupervised model we used for feature creation. We saw how it could be used to decompose the variational structure in the data. The PCA algorithm gave us *loadings* which described each component of variation, and also the *components* which were the transformed datapoints. The loadings can suggest features to create and the components we can use as features directly.\n",
    "\n",
    "Here are the utility functions from the PCA lesson:"
   ]
  },
  {
   "cell_type": "code",
   "execution_count": 50,
   "id": "a51a4b34",
   "metadata": {
    "_kg_hide-input": true,
    "papermill": {
     "duration": 0.029147,
     "end_time": "2023-07-15T08:53:57.995615",
     "exception": false,
     "start_time": "2023-07-15T08:53:57.966468",
     "status": "completed"
    },
    "tags": []
   },
   "outputs": [],
   "source": [
    "\n",
    "def apply_pca(X, standardize=True):\n",
    "    # Standardize\n",
    "    if standardize:\n",
    "        X = (X - X.mean(axis=0)) / X.std(axis=0)\n",
    "    # Create principal components\n",
    "    pca = PCA()\n",
    "    X_pca = pca.fit_transform(X)\n",
    "    # Convert to dataframe\n",
    "    component_names = [f\"PC{i+1}\" for i in range(X_pca.shape[1])]\n",
    "    X_pca = pd.DataFrame(X_pca, columns=component_names)\n",
    "    # Create loadings\n",
    "    loadings = pd.DataFrame(\n",
    "        pca.components_.T,  # transpose the matrix of loadings\n",
    "        columns=component_names,  # so the columns are the principal components\n",
    "        index=X.columns,  # and the rows are the original features\n",
    "    )\n",
    "    return pca, X_pca, loadings\n",
    "\n",
    "\n",
    "def plot_variance(pca, width=8, dpi=100):\n",
    "    # Create figure\n",
    "    fig, axs = plt.subplots(1, 2)\n",
    "    n = pca.n_components_\n",
    "    grid = np.arange(1, n + 1)\n",
    "    # Explained variance\n",
    "    evr = pca.explained_variance_ratio_\n",
    "    axs[0].bar(grid, evr)\n",
    "    axs[0].set(\n",
    "        xlabel=\"Component\", title=\"% Explained Variance\", ylim=(0.0, 1.0)\n",
    "    )\n",
    "    # Cumulative Variance\n",
    "    cv = np.cumsum(evr)\n",
    "    axs[1].plot(np.r_[0, grid], np.r_[0, cv], \"o-\")\n",
    "    axs[1].set(\n",
    "        xlabel=\"Component\", title=\"% Cumulative Variance\", ylim=(0.0, 1.0)\n",
    "    )\n",
    "    # Set up figure\n",
    "    fig.set(figwidth=8, dpi=100)\n",
    "    return axs\n"
   ]
  },
  {
   "cell_type": "markdown",
   "id": "dbab1cf6",
   "metadata": {
    "papermill": {
     "duration": 0.015022,
     "end_time": "2023-07-15T08:53:58.026183",
     "exception": false,
     "start_time": "2023-07-15T08:53:58.011161",
     "status": "completed"
    },
    "tags": []
   },
   "source": [
    "And here are transforms that produce the features from the Exercise 5. You might want to change these if you came up with a different answer.\n"
   ]
  },
  {
   "cell_type": "code",
   "execution_count": 51,
   "id": "ff7c4268",
   "metadata": {
    "_kg_hide-input": true,
    "papermill": {
     "duration": 0.026027,
     "end_time": "2023-07-15T08:53:58.067633",
     "exception": false,
     "start_time": "2023-07-15T08:53:58.041606",
     "status": "completed"
    },
    "tags": []
   },
   "outputs": [],
   "source": [
    "def pca_inspired(df):\n",
    "    X = pd.DataFrame()\n",
    "    X[\"Feature1\"] = df.GrLivArea + df.TotalBsmtSF\n",
    "    X[\"Feature2\"] = df.YearRemodAdd * df.TotalBsmtSF\n",
    "    return X\n",
    "\n",
    "\n",
    "def pca_components(df, features):\n",
    "    X = df.loc[:, features]\n",
    "    _, X_pca, _ = apply_pca(X)\n",
    "    return X_pca\n",
    "\n",
    "\n",
    "pca_features = [\n",
    "    \"GarageArea\",\n",
    "    \"YearRemodAdd\",\n",
    "    \"TotalBsmtSF\",\n",
    "    \"GrLivArea\",\n",
    "]"
   ]
  },
  {
   "cell_type": "markdown",
   "id": "54558d41",
   "metadata": {
    "papermill": {
     "duration": 0.015535,
     "end_time": "2023-07-15T08:53:58.098755",
     "exception": false,
     "start_time": "2023-07-15T08:53:58.083220",
     "status": "completed"
    },
    "tags": []
   },
   "source": [
    "These are only a couple ways you could use the principal components. You could also try clustering using one or more components. One thing to note is that PCA doesn't change the distance between points -- it's just like a rotation. So clustering with the full set of components is the same as clustering with the original features. Instead, pick some subset of components, maybe those with the most variance or the highest MI scores.\n",
    "\n",
    "For further analysis, you might want to look at a correlation matrix for the dataset:"
   ]
  },
  {
   "cell_type": "code",
   "execution_count": 52,
   "id": "626d6a06",
   "metadata": {
    "papermill": {
     "duration": 0.023833,
     "end_time": "2023-07-15T08:53:58.138418",
     "exception": false,
     "start_time": "2023-07-15T08:53:58.114585",
     "status": "completed"
    },
    "tags": []
   },
   "outputs": [],
   "source": [
    "# def corrplot(df, method=\"pearson\", annot=True, **kwargs):\n",
    "#     sns.clustermap(\n",
    "#         df.corr(method),\n",
    "#         vmin=-1.0,\n",
    "#         vmax=1.0,\n",
    "#         cmap=\"icefire\",\n",
    "#         method=\"complete\",\n",
    "#         annot=annot,\n",
    "#         **kwargs,\n",
    "#     )\n",
    "\n",
    "\n",
    "# corrplot(df_train, annot=None)"
   ]
  },
  {
   "cell_type": "markdown",
   "id": "585cf5f5",
   "metadata": {
    "papermill": {
     "duration": 0.014997,
     "end_time": "2023-07-15T08:53:58.168938",
     "exception": false,
     "start_time": "2023-07-15T08:53:58.153941",
     "status": "completed"
    },
    "tags": []
   },
   "source": [
    "Groups of highly correlated features often yield interesting loadings.\n",
    "\n",
    "### PCA Application - Indicate Outliers ###\n",
    "\n",
    "In Exercise 5, you applied PCA to determine houses that were **outliers**, that is, houses having values not well represented in the rest of the data. You saw that there was a group of houses in the `Edwards` neighborhood having a `SaleCondition` of `Partial` whose values were especially extreme.\n",
    "\n",
    "Some models can benefit from having these outliers indicated, which is what this next transform will do."
   ]
  },
  {
   "cell_type": "code",
   "execution_count": 53,
   "id": "58f8680f",
   "metadata": {
    "papermill": {
     "duration": 0.024567,
     "end_time": "2023-07-15T08:53:58.208757",
     "exception": false,
     "start_time": "2023-07-15T08:53:58.184190",
     "status": "completed"
    },
    "tags": []
   },
   "outputs": [],
   "source": [
    "def indicate_outliers(df):\n",
    "    X_new = pd.DataFrame()\n",
    "    X_new[\"Outlier\"] = (df.Neighborhood == \"Edwards\") & (df.SaleCondition == \"Partial\")\n",
    "    return X_new\n"
   ]
  },
  {
   "cell_type": "markdown",
   "id": "34834973",
   "metadata": {
    "papermill": {
     "duration": 0.015128,
     "end_time": "2023-07-15T08:53:58.239152",
     "exception": false,
     "start_time": "2023-07-15T08:53:58.224024",
     "status": "completed"
    },
    "tags": []
   },
   "source": [
    "You could also consider applying some sort of robust scaler from scikit-learn's `sklearn.preprocessing` module to the outlying values, especially those in `GrLivArea`. [Here](https://scikit-learn.org/stable/auto_examples/preprocessing/plot_all_scaling.html) is a tutorial illustrating some of them. Another option could be to create a feature of \"outlier scores\" using one of scikit-learn's [outlier detectors](https://scikit-learn.org/stable/modules/outlier_detection.html)."
   ]
  },
  {
   "cell_type": "markdown",
   "id": "16d94832",
   "metadata": {
    "papermill": {
     "duration": 0.015181,
     "end_time": "2023-07-15T08:53:58.269627",
     "exception": false,
     "start_time": "2023-07-15T08:53:58.254446",
     "status": "completed"
    },
    "tags": []
   },
   "source": [
    "## Target Encoding ##\n",
    "\n",
    "Needing a separate holdout set to create a target encoding is rather wasteful of data. In *Tutorial 6* we used 25% of our dataset just to encode a single feature, `Zipcode`. The data from the other features in that 25% we didn't get to use at all.\n",
    "\n",
    "There is, however, a way you can use target encoding without having to use held-out encoding data. It's basically the same trick used in cross-validation:\n",
    "1. Split the data into folds, each fold having two splits of the dataset.\n",
    "2. Train the encoder on one split but transform the values of the other.\n",
    "3. Repeat for all the splits.\n",
    "\n",
    "This way, training and transformation always take place on independent sets of data, just like when you use a holdout set but without any data going to waste.\n",
    "\n",
    "In the next hidden cell is a wrapper you can use with any target encoder:"
   ]
  },
  {
   "cell_type": "code",
   "execution_count": 54,
   "id": "8282c2d7",
   "metadata": {
    "_kg_hide-input": true,
    "papermill": {
     "duration": 0.028958,
     "end_time": "2023-07-15T08:53:58.314217",
     "exception": false,
     "start_time": "2023-07-15T08:53:58.285259",
     "status": "completed"
    },
    "tags": []
   },
   "outputs": [],
   "source": [
    "\n",
    "class CrossFoldEncoder:\n",
    "    def __init__(self, encoder, **kwargs):\n",
    "        self.encoder_ = encoder\n",
    "        self.kwargs_ = kwargs  # keyword arguments for the encoder\n",
    "        self.cv_ = KFold(n_splits=5)\n",
    "\n",
    "    # Fit an encoder on one split and transform the feature on the\n",
    "    # other. Iterating over the splits in all folds gives a complete\n",
    "    # transformation. We also now have one trained encoder on each\n",
    "    # fold.\n",
    "    def fit_transform(self, X, y, cols):\n",
    "        self.fitted_encoders_ = []\n",
    "        self.cols_ = cols\n",
    "        X_encoded = []\n",
    "        for idx_encode, idx_train in self.cv_.split(X):\n",
    "            fitted_encoder = self.encoder_(cols=cols, **self.kwargs_)\n",
    "            fitted_encoder.fit(\n",
    "                X.iloc[idx_encode, :], y.iloc[idx_encode],\n",
    "            )\n",
    "            X_encoded.append(fitted_encoder.transform(X.iloc[idx_train, :])[cols])\n",
    "            self.fitted_encoders_.append(fitted_encoder)\n",
    "        X_encoded = pd.concat(X_encoded)\n",
    "        X_encoded.columns = [name + \"_encoded\" for name in X_encoded.columns]\n",
    "        return X_encoded\n",
    "\n",
    "    # To transform the test data, average the encodings learned from\n",
    "    # each fold.\n",
    "    def transform(self, X):\n",
    "        from functools import reduce\n",
    "\n",
    "        X_encoded_list = []\n",
    "        for fitted_encoder in self.fitted_encoders_:\n",
    "            X_encoded = fitted_encoder.transform(X)\n",
    "            X_encoded_list.append(X_encoded[self.cols_])\n",
    "        X_encoded = reduce(\n",
    "            lambda x, y: x.add(y, fill_value=0), X_encoded_list\n",
    "        ) / len(X_encoded_list)\n",
    "        X_encoded.columns = [name + \"_encoded\" for name in X_encoded.columns]\n",
    "        return X_encoded\n"
   ]
  },
  {
   "cell_type": "markdown",
   "id": "487ee78d",
   "metadata": {
    "papermill": {
     "duration": 0.015618,
     "end_time": "2023-07-15T08:53:58.345358",
     "exception": false,
     "start_time": "2023-07-15T08:53:58.329740",
     "status": "completed"
    },
    "tags": []
   },
   "source": [
    "Use it like:\n",
    "\n",
    "```\n",
    "encoder = CrossFoldEncoder(MEstimateEncoder, m=1)\n",
    "X_encoded = encoder.fit_transform(X, y, cols=[\"MSSubClass\"]))\n",
    "```\n",
    "\n",
    "You can turn any of the encoders from the [`category_encoders`](http://contrib.scikit-learn.org/category_encoders/) library into a cross-fold encoder. The [`CatBoostEncoder`](http://contrib.scikit-learn.org/category_encoders/catboost.html) would be worth trying. It's similar to `MEstimateEncoder` but uses some tricks to better prevent overfitting. Its smoothing parameter is called `a` instead of `m`.\n",
    "\n",
    "## Create Final Feature Set ##\n",
    "\n",
    "Now let's combine everything together. Putting the transformations into separate functions makes it easier to experiment with various combinations. The ones I left uncommented I found gave the best results. You should experiment with you own ideas though! Modify any of these transformations or come up with some of your own to add to the pipeline."
   ]
  },
  {
   "cell_type": "code",
   "execution_count": 55,
   "id": "18bb752a",
   "metadata": {
    "papermill": {
     "duration": 4.858123,
     "end_time": "2023-07-15T08:54:03.218791",
     "exception": false,
     "start_time": "2023-07-15T08:53:58.360668",
     "status": "completed"
    },
    "tags": []
   },
   "outputs": [
    {
     "data": {
      "text/plain": [
       "0.140323716026266"
      ]
     },
     "execution_count": 55,
     "metadata": {},
     "output_type": "execute_result"
    }
   ],
   "source": [
    "def create_features(df, df_test=None):\n",
    "    X = df.copy()\n",
    "    y = X.pop(\"SalePrice\")\n",
    "    mi_scores = make_mi_scores(X, y)\n",
    "\n",
    "    # Combine splits if test data is given\n",
    "    #\n",
    "    # If we're creating features for test set predictions, we should\n",
    "    # use all the data we have available. After creating our features,\n",
    "    # we'll recreate the splits.\n",
    "    if df_test is not None:\n",
    "        X_test = df_test.copy()\n",
    "        X_test.pop(\"SalePrice\")\n",
    "        X = pd.concat([X, X_test])\n",
    "\n",
    "    # Lesson 2 - Mutual Information\n",
    "    X = drop_uninformative(X, mi_scores)\n",
    "\n",
    "    # Lesson 3 - Transformations\n",
    "    X = X.join(mathematical_transforms(X))\n",
    "    X = X.join(interactions(X))\n",
    "    X = X.join(counts(X))\n",
    "    # X = X.join(break_down(X))\n",
    "    X = X.join(group_transforms(X))\n",
    "    \n",
    "    \"\"\"\n",
    "    To try new transformations after this:\n",
    "    \"\"\"\n",
    "    X = X.join(OverallQuall(X))\n",
    "#     X = X.join(to_root_square(X))\n",
    "    \n",
    "    \n",
    "    # Lesson 4 - Clustering\n",
    "    # X = X.join(cluster_labels(X, cluster_features, n_clusters=20))\n",
    "    # X = X.join(cluster_distance(X, cluster_features, n_clusters=20))\n",
    "\n",
    "    # Lesson 5 - PCA\n",
    "    X = X.join(pca_inspired(X))\n",
    "    # X = X.join(pca_components(X, pca_features))\n",
    "    # X = X.join(indicate_outliers(X))\n",
    "\n",
    "    X = label_encode(X)\n",
    "\n",
    "    # Reform splits\n",
    "    if df_test is not None:\n",
    "        X_test = X.loc[df_test.index, :]\n",
    "        X.drop(df_test.index, inplace=True)\n",
    "\n",
    "    # Lesson 6 - Target Encoder\n",
    "    encoder = CrossFoldEncoder(MEstimateEncoder, m=1)\n",
    "    X = X.join(encoder.fit_transform(X, y, cols=[\"MSSubClass\"]))\n",
    "    if df_test is not None:\n",
    "        X_test = X_test.join(encoder.transform(X_test))\n",
    "\n",
    "    if df_test is not None:\n",
    "        return X, X_test\n",
    "    else:\n",
    "        return X\n",
    "\n",
    "\n",
    "df_train, df_test = load_data()\n",
    "X_train = create_features(df_train)\n",
    "y_train = df_train.loc[:, \"SalePrice\"]\n",
    "\n",
    "score_dataset(X_train, y_train)"
   ]
  },
  {
   "cell_type": "markdown",
   "id": "3bc2a5ec",
   "metadata": {
    "papermill": {
     "duration": 0.015111,
     "end_time": "2023-07-15T08:54:03.249987",
     "exception": false,
     "start_time": "2023-07-15T08:54:03.234876",
     "status": "completed"
    },
    "tags": []
   },
   "source": [
    "# Step 4 - Hyperparameter Tuning #\n",
    "\n",
    "At this stage, you might like to do some hyperparameter tuning with XGBoost before creating your final submission."
   ]
  },
  {
   "cell_type": "code",
   "execution_count": null,
   "id": "8a4bc131-dfc9-4d8e-9527-64296a62f94f",
   "metadata": {
    "papermill": {
     "duration": 1458.912755,
     "end_time": "2023-07-15T09:18:22.178208",
     "exception": false,
     "start_time": "2023-07-15T08:54:03.265453",
     "status": "completed"
    },
    "tags": []
   },
   "outputs": [],
   "source": [
    "X_train = create_features(df_train)\n",
    "y_train = df_train.loc[:, \"SalePrice\"]"
   ]
  },
  {
   "cell_type": "code",
   "execution_count": 58,
   "id": "96182221-d7b1-4355-9900-070140ed3992",
   "metadata": {
    "papermill": {
     "duration": 1458.912755,
     "end_time": "2023-07-15T09:18:22.178208",
     "exception": false,
     "start_time": "2023-07-15T08:54:03.265453",
     "status": "completed"
    },
    "tags": []
   },
   "outputs": [],
   "source": [
    "import optuna"
   ]
  },
  {
   "cell_type": "code",
   "execution_count": 59,
   "id": "e58d119a-c519-4934-98a2-f337096e09bc",
   "metadata": {
    "papermill": {
     "duration": 1458.912755,
     "end_time": "2023-07-15T09:18:22.178208",
     "exception": false,
     "start_time": "2023-07-15T08:54:03.265453",
     "status": "completed"
    },
    "tags": []
   },
   "outputs": [
    {
     "name": "stderr",
     "output_type": "stream",
     "text": [
      "[I 2023-07-20 07:09:37,330] A new study created in memory with name: no-name-067a0aa5-db97-4ec9-b5ca-0f0ef8ad983a\n",
      "[I 2023-07-20 07:10:05,102] Trial 0 finished with value: 0.15029792693284474 and parameters: {'max_depth': 3, 'learning_rate': 0.005047015760688867, 'n_estimators': 6785, 'min_child_weight': 7, 'colsample_bytree': 0.32466602009108914, 'subsample': 0.2593593403883947, 'reg_alpha': 5.805362509707257, 'reg_lambda': 0.0026904784658588186}. Best is trial 0 with value: 0.15029792693284474.\n",
      "[I 2023-07-20 07:10:36,183] Trial 1 finished with value: 0.12213665694019872 and parameters: {'max_depth': 4, 'learning_rate': 0.016181721316309683, 'n_estimators': 6515, 'min_child_weight': 10, 'colsample_bytree': 0.2026678524857511, 'subsample': 0.3038732001054836, 'reg_alpha': 0.00011303424531588252, 'reg_lambda': 0.23690809818613517}. Best is trial 1 with value: 0.12213665694019872.\n",
      "[I 2023-07-20 07:10:45,165] Trial 2 finished with value: 5.514558417336131 and parameters: {'max_depth': 7, 'learning_rate': 0.0004685380176580864, 'n_estimators': 1575, 'min_child_weight': 5, 'colsample_bytree': 0.251908475173895, 'subsample': 0.9134633197496429, 'reg_alpha': 0.01915330118604116, 'reg_lambda': 0.017862846388878976}. Best is trial 1 with value: 0.12213665694019872.\n",
      "[I 2023-07-20 07:11:14,144] Trial 3 finished with value: 0.11813172965219651 and parameters: {'max_depth': 3, 'learning_rate': 0.0026390562958344623, 'n_estimators': 5768, 'min_child_weight': 1, 'colsample_bytree': 0.5906437936993887, 'subsample': 0.3434700048443549, 'reg_alpha': 0.0009451567617930858, 'reg_lambda': 0.005134036335883411}. Best is trial 3 with value: 0.11813172965219651.\n",
      "[I 2023-07-20 07:11:45,123] Trial 4 finished with value: 4.839805391284355 and parameters: {'max_depth': 5, 'learning_rate': 0.0001370076852872895, 'n_estimators': 6343, 'min_child_weight': 9, 'colsample_bytree': 0.3243642778859561, 'subsample': 0.572378779992551, 'reg_alpha': 0.21493656912517978, 'reg_lambda': 0.0018099681248839475}. Best is trial 3 with value: 0.11813172965219651.\n",
      "[I 2023-07-20 07:12:18,016] Trial 5 finished with value: 0.2029760856321757 and parameters: {'max_depth': 2, 'learning_rate': 0.05678592210218622, 'n_estimators': 7646, 'min_child_weight': 4, 'colsample_bytree': 0.8850329665728014, 'subsample': 0.5585480574071067, 'reg_alpha': 38.12012129047962, 'reg_lambda': 0.1529424691972932}. Best is trial 3 with value: 0.11813172965219651.\n",
      "[I 2023-07-20 07:12:55,079] Trial 6 finished with value: 0.531841970748647 and parameters: {'max_depth': 3, 'learning_rate': 0.0003999330447995521, 'n_estimators': 7778, 'min_child_weight': 9, 'colsample_bytree': 0.3679112329029748, 'subsample': 0.30970018594078896, 'reg_alpha': 0.0008174452531835459, 'reg_lambda': 0.00040376784508050023}. Best is trial 3 with value: 0.11813172965219651.\n",
      "[I 2023-07-20 07:13:06,639] Trial 7 finished with value: 0.43342531356468333 and parameters: {'max_depth': 4, 'learning_rate': 0.001419957100362742, 'n_estimators': 2373, 'min_child_weight': 2, 'colsample_bytree': 0.3490531783809129, 'subsample': 0.9093568715199871, 'reg_alpha': 1.4470247381190808, 'reg_lambda': 0.001614188649276806}. Best is trial 3 with value: 0.11813172965219651.\n",
      "[I 2023-07-20 07:13:48,013] Trial 8 finished with value: 0.12281804436073912 and parameters: {'max_depth': 9, 'learning_rate': 0.04801340703203062, 'n_estimators': 6018, 'min_child_weight': 10, 'colsample_bytree': 0.7414278711765176, 'subsample': 0.5756965663402105, 'reg_alpha': 0.04690382991663939, 'reg_lambda': 0.883511181120401}. Best is trial 3 with value: 0.11813172965219651.\n",
      "[I 2023-07-20 07:14:09,962] Trial 9 finished with value: 0.225868658980401 and parameters: {'max_depth': 7, 'learning_rate': 0.022457600200263102, 'n_estimators': 5124, 'min_child_weight': 3, 'colsample_bytree': 0.9399392098454038, 'subsample': 0.26009935904473935, 'reg_alpha': 26.852205000787, 'reg_lambda': 19.279863343599974}. Best is trial 3 with value: 0.11813172965219651.\n",
      "[I 2023-07-20 07:14:48,000] Trial 10 finished with value: 0.1195774266867035 and parameters: {'max_depth': 10, 'learning_rate': 0.0037766130161373235, 'n_estimators': 3504, 'min_child_weight': 1, 'colsample_bytree': 0.6160052969653533, 'subsample': 0.4308624008694386, 'reg_alpha': 0.0029571500734202547, 'reg_lambda': 0.00015395587900348304}. Best is trial 3 with value: 0.11813172965219651.\n",
      "[I 2023-07-20 07:15:26,918] Trial 11 finished with value: 0.11915004734584744 and parameters: {'max_depth': 10, 'learning_rate': 0.004055342086028559, 'n_estimators': 3570, 'min_child_weight': 1, 'colsample_bytree': 0.5670684547494591, 'subsample': 0.42443264185169943, 'reg_alpha': 0.0025430577233462467, 'reg_lambda': 0.00011426173104361629}. Best is trial 3 with value: 0.11813172965219651.\n",
      "[I 2023-07-20 07:16:04,748] Trial 12 finished with value: 0.11947122395827618 and parameters: {'max_depth': 8, 'learning_rate': 0.006960203382032041, 'n_estimators': 4082, 'min_child_weight': 1, 'colsample_bytree': 0.5180088529307729, 'subsample': 0.43699062203263417, 'reg_alpha': 0.0031398608729401346, 'reg_lambda': 0.00010985110367753015}. Best is trial 3 with value: 0.11813172965219651.\n",
      "[I 2023-07-20 07:16:39,224] Trial 13 finished with value: 0.11780577905527863 and parameters: {'max_depth': 6, 'learning_rate': 0.0020912058526563614, 'n_estimators': 4912, 'min_child_weight': 3, 'colsample_bytree': 0.5491135876029956, 'subsample': 0.42602141312995523, 'reg_alpha': 0.00028205556250080117, 'reg_lambda': 0.013100353923360038}. Best is trial 13 with value: 0.11780577905527863.\n",
      "[I 2023-07-20 07:17:16,696] Trial 14 finished with value: 0.14279948613249618 and parameters: {'max_depth': 6, 'learning_rate': 0.000983405560680291, 'n_estimators': 5104, 'min_child_weight': 3, 'colsample_bytree': 0.49096395106357604, 'subsample': 0.7585363481425019, 'reg_alpha': 0.00020462602528358657, 'reg_lambda': 0.02176145537550675}. Best is trial 13 with value: 0.11780577905527863.\n",
      "[I 2023-07-20 07:17:45,185] Trial 15 finished with value: 0.12177438161156351 and parameters: {'max_depth': 5, 'learning_rate': 0.001570295185969557, 'n_estimators': 4886, 'min_child_weight': 6, 'colsample_bytree': 0.678754867077541, 'subsample': 0.22520030612939163, 'reg_alpha': 0.000403650341165015, 'reg_lambda': 0.011429288192758555}. Best is trial 13 with value: 0.11780577905527863.\n",
      "[I 2023-07-20 07:18:12,209] Trial 16 finished with value: 0.11954677271585765 and parameters: {'max_depth': 2, 'learning_rate': 0.009838391302996347, 'n_estimators': 5632, 'min_child_weight': 3, 'colsample_bytree': 0.7519356739085875, 'subsample': 0.3768082549371752, 'reg_alpha': 0.00010957932880815523, 'reg_lambda': 0.049276588411448934}. Best is trial 13 with value: 0.11780577905527863.\n",
      "[I 2023-07-20 07:18:29,352] Trial 17 finished with value: 0.128251994066674 and parameters: {'max_depth': 6, 'learning_rate': 0.00222116075663468, 'n_estimators': 2512, 'min_child_weight': 4, 'colsample_bytree': 0.4770263656865434, 'subsample': 0.4934435355741331, 'reg_alpha': 0.011929651902020602, 'reg_lambda': 0.004770123008379943}. Best is trial 13 with value: 0.11780577905527863.\n",
      "[I 2023-07-20 07:18:56,316] Trial 18 finished with value: 0.11752303192370983 and parameters: {'max_depth': 4, 'learning_rate': 0.0027555993084739205, 'n_estimators': 4278, 'min_child_weight': 2, 'colsample_bytree': 0.6398476739373892, 'subsample': 0.68378379893707, 'reg_alpha': 0.0008353017530767469, 'reg_lambda': 0.0008121229087288932}. Best is trial 18 with value: 0.11752303192370983.\n",
      "[I 2023-07-20 07:19:24,013] Trial 19 finished with value: 0.11826643441825023 and parameters: {'max_depth': 5, 'learning_rate': 0.009347224431242283, 'n_estimators': 4255, 'min_child_weight': 6, 'colsample_bytree': 0.4416040517214992, 'subsample': 0.6962168791061032, 'reg_alpha': 0.0005865810302849017, 'reg_lambda': 0.0006340407689904269}. Best is trial 18 with value: 0.11752303192370983.\n"
     ]
    },
    {
     "data": {
      "text/plain": [
       "{'max_depth': 4,\n",
       " 'learning_rate': 0.0027555993084739205,\n",
       " 'n_estimators': 4278,\n",
       " 'min_child_weight': 2,\n",
       " 'colsample_bytree': 0.6398476739373892,\n",
       " 'subsample': 0.68378379893707,\n",
       " 'reg_alpha': 0.0008353017530767469,\n",
       " 'reg_lambda': 0.0008121229087288932}"
      ]
     },
     "execution_count": 59,
     "metadata": {},
     "output_type": "execute_result"
    }
   ],
   "source": [
    "def objective(trial):\n",
    "    xgb_params = dict(\n",
    "        max_depth=trial.suggest_int(\"max_depth\", 2, 10),\n",
    "        learning_rate=trial.suggest_float(\"learning_rate\", 1e-4, 1e-1, log=True),\n",
    "        n_estimators=trial.suggest_int(\"n_estimators\", 1000, 8000),\n",
    "        min_child_weight=trial.suggest_int(\"min_child_weight\", 1, 10),\n",
    "        colsample_bytree=trial.suggest_float(\"colsample_bytree\", 0.2, 1.0),\n",
    "        subsample=trial.suggest_float(\"subsample\", 0.2, 1.0),\n",
    "        reg_alpha=trial.suggest_float(\"reg_alpha\", 1e-4, 1e2, log=True),\n",
    "        reg_lambda=trial.suggest_float(\"reg_lambda\", 1e-4, 1e2, log=True),\n",
    "    )\n",
    "    xgb = XGBRegressor(**xgb_params)\n",
    "    return score_dataset(X_train, y_train, xgb)\n",
    "\n",
    "study = optuna.create_study(direction=\"minimize\")\n",
    "study.optimize(objective, n_trials=20)\n",
    "xgb_params = study.best_params\n",
    "xgb_params"
   ]
  },
  {
   "cell_type": "code",
   "execution_count": 60,
   "id": "dad842f3-5580-4d68-90bb-591ee8afc99b",
   "metadata": {
    "papermill": {
     "duration": 1458.912755,
     "end_time": "2023-07-15T09:18:22.178208",
     "exception": false,
     "start_time": "2023-07-15T08:54:03.265453",
     "status": "completed"
    },
    "tags": []
   },
   "outputs": [
    {
     "data": {
      "text/plain": [
       "0.11752303192370983"
      ]
     },
     "execution_count": 60,
     "metadata": {},
     "output_type": "execute_result"
    }
   ],
   "source": [
    "xgb = XGBRegressor(**xgb_params)\n",
    "score_dataset(X_train, y_train, xgb)"
   ]
  },
  {
   "cell_type": "markdown",
   "id": "30241733",
   "metadata": {
    "papermill": {
     "duration": 0.016776,
     "end_time": "2023-07-15T09:18:22.211970",
     "exception": false,
     "start_time": "2023-07-15T09:18:22.195194",
     "status": "completed"
    },
    "tags": []
   },
   "source": [
    "Just tuning these by hand can give you great results. However, you might like to try using one of scikit-learn's automatic [hyperparameter tuners](https://scikit-learn.org/stable/modules/grid_search.html). Or you could explore more advanced tuning libraries like [Optuna](https://optuna.readthedocs.io/en/stable/index.html) or [scikit-optimize](https://scikit-optimize.github.io/stable/).\n",
    "\n",
    "Here is how you can use Optuna with XGBoost:\n",
    "\n",
    "```\n",
    "import optuna\n",
    "\n",
    "def objective(trial):\n",
    "    xgb_params = dict(\n",
    "        max_depth=trial.suggest_int(\"max_depth\", 2, 10),\n",
    "        learning_rate=trial.suggest_float(\"learning_rate\", 1e-4, 1e-1, log=True),\n",
    "        n_estimators=trial.suggest_int(\"n_estimators\", 1000, 8000),\n",
    "        min_child_weight=trial.suggest_int(\"min_child_weight\", 1, 10),\n",
    "        colsample_bytree=trial.suggest_float(\"colsample_bytree\", 0.2, 1.0),\n",
    "        subsample=trial.suggest_float(\"subsample\", 0.2, 1.0),\n",
    "        reg_alpha=trial.suggest_float(\"reg_alpha\", 1e-4, 1e2, log=True),\n",
    "        reg_lambda=trial.suggest_float(\"reg_lambda\", 1e-4, 1e2, log=True),\n",
    "    )\n",
    "    xgb = XGBRegressor(**xgb_params)\n",
    "    return score_dataset(X_train, y_train, xgb)\n",
    "\n",
    "study = optuna.create_study(direction=\"minimize\")\n",
    "study.optimize(objective, n_trials=20)\n",
    "xgb_params = study.best_params\n",
    "```\n",
    "\n",
    "Copy this into a code cell if you'd like to use it, but be aware that it will take quite a while to run. After it's done, you might enjoy using some of [Optuna's visualizations](https://optuna.readthedocs.io/en/stable/tutorial/10_key_features/005_visualization.html).\n",
    "\n",
    "# Step 5 - Train Model and Create Submissions #\n",
    "\n",
    "Once you're satisfied with everything, it's time to create your final predictions! This cell will:\n",
    "- create your feature set from the original data\n",
    "- train XGBoost on the training data\n",
    "- use the trained model to make predictions from the test set\n",
    "- save the predictions to a CSV file"
   ]
  },
  {
   "cell_type": "code",
   "execution_count": 61,
   "id": "ea6e132b",
   "metadata": {
    "papermill": {
     "duration": 30.8043,
     "end_time": "2023-07-15T09:18:53.033419",
     "exception": false,
     "start_time": "2023-07-15T09:18:22.229119",
     "status": "completed"
    },
    "tags": []
   },
   "outputs": [
    {
     "name": "stdout",
     "output_type": "stream",
     "text": [
      "Your submission was successfully saved!\n"
     ]
    }
   ],
   "source": [
    "X_train, X_test = create_features(df_train, df_test)\n",
    "y_train = df_train.loc[:, \"SalePrice\"]\n",
    "\n",
    "xgb = XGBRegressor(**xgb_params)\n",
    "# XGB minimizes MSE, but competition loss is RMSLE\n",
    "# So, we need to log-transform y to train and exp-transform the predictions\n",
    "xgb.fit(X_train, np.log(y))\n",
    "predictions = np.exp(xgb.predict(X_test))\n",
    "\n",
    "output = pd.DataFrame({'Id': X_test.index, 'SalePrice': predictions})\n",
    "output.to_csv('output/submission_xgb_optuna.csv', index=False)\n",
    "print(\"Your submission was successfully saved!\")"
   ]
  },
  {
   "cell_type": "markdown",
   "id": "9e6b00e8",
   "metadata": {
    "papermill": {
     "duration": 0.016905,
     "end_time": "2023-07-15T09:18:53.067619",
     "exception": false,
     "start_time": "2023-07-15T09:18:53.050714",
     "status": "completed"
    },
    "tags": []
   },
   "source": [
    "To submit these predictions to the competition, follow these steps:\n",
    "\n",
    "1. Begin by clicking on the blue **Save Version** button in the top right corner of the window.  This will generate a pop-up window.\n",
    "2. Ensure that the **Save and Run All** option is selected, and then click on the blue **Save** button.\n",
    "3. This generates a window in the bottom left corner of the notebook.  After it has finished running, click on the number to the right of the **Save Version** button.  This pulls up a list of versions on the right of the screen.  Click on the ellipsis **(...)** to the right of the most recent version, and select **Open in Viewer**.  This brings you into view mode of the same page. You will need to scroll down to get back to these instructions.\n",
    "4. Click on the **Output** tab on the right of the screen.  Then, click on the file you would like to submit, and click on the blue **Submit** button to submit your results to the leaderboard.\n",
    "\n",
    "You have now successfully submitted to the competition!\n",
    "\n",
    "# Next Steps #\n",
    "\n",
    "If you want to keep working to improve your performance, select the blue **Edit** button in the top right of the screen. Then you can change your code and repeat the process. There's a lot of room to improve, and you will climb up the leaderboard as you work.\n",
    "\n",
    "Be sure to check out [other users' notebooks](https://www.kaggle.com/c/house-prices-advanced-regression-techniques/notebooks) in this competition. You'll find lots of great ideas for new features and as well as other ways to discover more things about the dataset or make better predictions. There's also the [discussion forum](https://www.kaggle.com/c/house-prices-advanced-regression-techniques/discussion), where you can share ideas with other Kagglers.\n",
    "\n",
    "Have fun Kaggling!"
   ]
  },
  {
   "cell_type": "markdown",
   "id": "cc1cef52",
   "metadata": {
    "papermill": {
     "duration": 0.016912,
     "end_time": "2023-07-15T09:18:53.101840",
     "exception": false,
     "start_time": "2023-07-15T09:18:53.084928",
     "status": "completed"
    },
    "tags": []
   },
   "source": [
    "---\n",
    "\n",
    "\n",
    "\n",
    "\n",
    "*Have questions or comments? Visit the [course discussion forum](https://www.kaggle.com/learn/feature-engineering/discussion) to chat with other learners.*"
   ]
  },
  {
   "cell_type": "code",
   "execution_count": null,
   "id": "60c0bf09",
   "metadata": {
    "papermill": {
     "duration": 0.016808,
     "end_time": "2023-07-15T09:18:53.136145",
     "exception": false,
     "start_time": "2023-07-15T09:18:53.119337",
     "status": "completed"
    },
    "tags": []
   },
   "outputs": [],
   "source": []
  },
  {
   "cell_type": "code",
   "execution_count": null,
   "id": "97f5fe2d",
   "metadata": {
    "papermill": {
     "duration": 0.016817,
     "end_time": "2023-07-15T09:18:53.170227",
     "exception": false,
     "start_time": "2023-07-15T09:18:53.153410",
     "status": "completed"
    },
    "tags": []
   },
   "outputs": [],
   "source": []
  },
  {
   "cell_type": "code",
   "execution_count": null,
   "id": "31b77065",
   "metadata": {
    "papermill": {
     "duration": 0.016858,
     "end_time": "2023-07-15T09:18:53.204536",
     "exception": false,
     "start_time": "2023-07-15T09:18:53.187678",
     "status": "completed"
    },
    "tags": []
   },
   "outputs": [],
   "source": []
  },
  {
   "cell_type": "code",
   "execution_count": null,
   "id": "9c748bb1",
   "metadata": {
    "papermill": {
     "duration": 0.016813,
     "end_time": "2023-07-15T09:18:53.238550",
     "exception": false,
     "start_time": "2023-07-15T09:18:53.221737",
     "status": "completed"
    },
    "tags": []
   },
   "outputs": [],
   "source": []
  },
  {
   "cell_type": "code",
   "execution_count": null,
   "id": "a1385c41",
   "metadata": {
    "papermill": {
     "duration": 0.017294,
     "end_time": "2023-07-15T09:18:53.272974",
     "exception": false,
     "start_time": "2023-07-15T09:18:53.255680",
     "status": "completed"
    },
    "tags": []
   },
   "outputs": [],
   "source": []
  },
  {
   "cell_type": "code",
   "execution_count": null,
   "id": "8a3c425b",
   "metadata": {
    "papermill": {
     "duration": 0.01661,
     "end_time": "2023-07-15T09:18:53.307173",
     "exception": false,
     "start_time": "2023-07-15T09:18:53.290563",
     "status": "completed"
    },
    "tags": []
   },
   "outputs": [],
   "source": []
  },
  {
   "cell_type": "code",
   "execution_count": null,
   "id": "6f82c2c7",
   "metadata": {
    "papermill": {
     "duration": 0.016737,
     "end_time": "2023-07-15T09:18:53.340971",
     "exception": false,
     "start_time": "2023-07-15T09:18:53.324234",
     "status": "completed"
    },
    "tags": []
   },
   "outputs": [],
   "source": []
  },
  {
   "cell_type": "code",
   "execution_count": null,
   "id": "2e15cf3a",
   "metadata": {
    "papermill": {
     "duration": 0.016839,
     "end_time": "2023-07-15T09:18:53.376335",
     "exception": false,
     "start_time": "2023-07-15T09:18:53.359496",
     "status": "completed"
    },
    "tags": []
   },
   "outputs": [],
   "source": []
  },
  {
   "cell_type": "code",
   "execution_count": null,
   "id": "f0fe177b",
   "metadata": {
    "papermill": {
     "duration": 0.016709,
     "end_time": "2023-07-15T09:18:53.410235",
     "exception": false,
     "start_time": "2023-07-15T09:18:53.393526",
     "status": "completed"
    },
    "tags": []
   },
   "outputs": [],
   "source": []
  },
  {
   "cell_type": "code",
   "execution_count": null,
   "id": "15f505dd",
   "metadata": {
    "papermill": {
     "duration": 0.017094,
     "end_time": "2023-07-15T09:18:53.444735",
     "exception": false,
     "start_time": "2023-07-15T09:18:53.427641",
     "status": "completed"
    },
    "tags": []
   },
   "outputs": [],
   "source": []
  },
  {
   "cell_type": "code",
   "execution_count": null,
   "id": "5ee01fd8",
   "metadata": {
    "papermill": {
     "duration": 0.0168,
     "end_time": "2023-07-15T09:18:53.478754",
     "exception": false,
     "start_time": "2023-07-15T09:18:53.461954",
     "status": "completed"
    },
    "tags": []
   },
   "outputs": [],
   "source": []
  },
  {
   "cell_type": "code",
   "execution_count": null,
   "id": "4f94adc1",
   "metadata": {
    "papermill": {
     "duration": 0.01701,
     "end_time": "2023-07-15T09:18:53.513892",
     "exception": false,
     "start_time": "2023-07-15T09:18:53.496882",
     "status": "completed"
    },
    "tags": []
   },
   "outputs": [],
   "source": []
  },
  {
   "cell_type": "code",
   "execution_count": null,
   "id": "d10fec17",
   "metadata": {
    "papermill": {
     "duration": 0.016843,
     "end_time": "2023-07-15T09:18:53.547832",
     "exception": false,
     "start_time": "2023-07-15T09:18:53.530989",
     "status": "completed"
    },
    "tags": []
   },
   "outputs": [],
   "source": []
  },
  {
   "cell_type": "code",
   "execution_count": null,
   "id": "6e71da62",
   "metadata": {
    "papermill": {
     "duration": 0.016631,
     "end_time": "2023-07-15T09:18:53.581610",
     "exception": false,
     "start_time": "2023-07-15T09:18:53.564979",
     "status": "completed"
    },
    "tags": []
   },
   "outputs": [],
   "source": []
  },
  {
   "cell_type": "code",
   "execution_count": null,
   "id": "bdb9a4bd",
   "metadata": {
    "papermill": {
     "duration": 0.01691,
     "end_time": "2023-07-15T09:18:53.615772",
     "exception": false,
     "start_time": "2023-07-15T09:18:53.598862",
     "status": "completed"
    },
    "tags": []
   },
   "outputs": [],
   "source": []
  },
  {
   "cell_type": "code",
   "execution_count": null,
   "id": "bec0eb0d",
   "metadata": {
    "papermill": {
     "duration": 0.01685,
     "end_time": "2023-07-15T09:18:53.650067",
     "exception": false,
     "start_time": "2023-07-15T09:18:53.633217",
     "status": "completed"
    },
    "tags": []
   },
   "outputs": [],
   "source": []
  },
  {
   "cell_type": "code",
   "execution_count": null,
   "id": "0928b8d7",
   "metadata": {
    "papermill": {
     "duration": 0.016751,
     "end_time": "2023-07-15T09:18:53.683911",
     "exception": false,
     "start_time": "2023-07-15T09:18:53.667160",
     "status": "completed"
    },
    "tags": []
   },
   "outputs": [],
   "source": []
  },
  {
   "cell_type": "code",
   "execution_count": null,
   "id": "c470f425",
   "metadata": {
    "papermill": {
     "duration": 0.016588,
     "end_time": "2023-07-15T09:18:53.717433",
     "exception": false,
     "start_time": "2023-07-15T09:18:53.700845",
     "status": "completed"
    },
    "tags": []
   },
   "outputs": [],
   "source": []
  },
  {
   "cell_type": "code",
   "execution_count": null,
   "id": "8939be71",
   "metadata": {
    "papermill": {
     "duration": 0.016654,
     "end_time": "2023-07-15T09:18:53.751198",
     "exception": false,
     "start_time": "2023-07-15T09:18:53.734544",
     "status": "completed"
    },
    "tags": []
   },
   "outputs": [],
   "source": []
  },
  {
   "cell_type": "code",
   "execution_count": null,
   "id": "fe622cae",
   "metadata": {
    "papermill": {
     "duration": 0.016712,
     "end_time": "2023-07-15T09:18:53.785114",
     "exception": false,
     "start_time": "2023-07-15T09:18:53.768402",
     "status": "completed"
    },
    "tags": []
   },
   "outputs": [],
   "source": []
  },
  {
   "cell_type": "code",
   "execution_count": null,
   "id": "4ee96f2c",
   "metadata": {
    "papermill": {
     "duration": 0.016593,
     "end_time": "2023-07-15T09:18:53.818740",
     "exception": false,
     "start_time": "2023-07-15T09:18:53.802147",
     "status": "completed"
    },
    "tags": []
   },
   "outputs": [],
   "source": []
  },
  {
   "cell_type": "code",
   "execution_count": null,
   "id": "856a5eaa",
   "metadata": {
    "papermill": {
     "duration": 0.018499,
     "end_time": "2023-07-15T09:18:53.854448",
     "exception": false,
     "start_time": "2023-07-15T09:18:53.835949",
     "status": "completed"
    },
    "tags": []
   },
   "outputs": [],
   "source": []
  }
 ],
 "metadata": {
  "kernelspec": {
   "display_name": "pandasai",
   "language": "python",
   "name": "pandasai"
  },
  "language_info": {
   "codemirror_mode": {
    "name": "ipython",
    "version": 3
   },
   "file_extension": ".py",
   "mimetype": "text/x-python",
   "name": "python",
   "nbconvert_exporter": "python",
   "pygments_lexer": "ipython3",
   "version": "3.11.3"
  },
  "papermill": {
   "default_parameters": {},
   "duration": 1518.267234,
   "end_time": "2023-07-15T09:18:54.998147",
   "environment_variables": {},
   "exception": null,
   "input_path": "__notebook__.ipynb",
   "output_path": "__notebook__.ipynb",
   "parameters": {},
   "start_time": "2023-07-15T08:53:36.730913",
   "version": "2.4.0"
  }
 },
 "nbformat": 4,
 "nbformat_minor": 5
}
